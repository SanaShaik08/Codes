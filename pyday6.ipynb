{
 "cells": [
  {
   "cell_type": "code",
   "execution_count": 11,
   "id": "1f64357a-fda1-40cb-afef-6bf5d463f3ad",
   "metadata": {},
   "outputs": [
    {
     "name": "stdout",
     "output_type": "stream",
     "text": [
      "car has:\n",
      "engine is of  110cc\n",
      "reg_plate is  KA32_546\n",
      "price is  180000\n",
      "color is  BALCK\n",
      "type is  5 SEATER\n",
      "number of passengers are  5\n",
      "max speed is  60KM/HR\n",
      " \n",
      "truck has :\n",
      "engine is of  100CC\n",
      "reg_plate is  KA32_476\n",
      "price is  257687\n",
      "color is  BROWN\n",
      "number of axle are  8\n",
      "loadd capacity is  2500KG\n"
     ]
    }
   ],
   "source": [
    "class vehicle:\n",
    "    def __init__(self,e,r,p,c):\n",
    "        self.engine=e\n",
    "        self.reg_plate=r\n",
    "        self.price=p\n",
    "        self.color=c\n",
    "    def show(self):\n",
    "        print(\"engine is of \",self.engine)\n",
    "        print(\"reg_plate is \",self.reg_plate)\n",
    "        print(\"price is \",self.price)\n",
    "        print(\"color is \",self.color)\n",
    "        \n",
    "class car(vehicle):\n",
    "     def __init__(self,e,r,p,c,t,n,m):\n",
    "        self.type=t\n",
    "        self.num_p=n\n",
    "        self.max_speed=m\n",
    "        super().__init__(e,r,p,c)\n",
    "     def show(self):\n",
    "         print(\"car has:\")\n",
    "         super().show()\n",
    "         print(\"type is \",self.type)\n",
    "         print(\"number of passengers are \",self.num_p)\n",
    "         print(\"max speed is \",self.max_speed)\n",
    "class truck(vehicle):\n",
    "     def __init__(self,e,r,p,c,a,l):\n",
    "        self.num_axle=a\n",
    "        self.load_cap=l\n",
    "        super().__init__(e,r,p,c)\n",
    "        \n",
    "     def show(self):\n",
    "         print(\"truck has :\")\n",
    "         super().show()\n",
    "         print(\"number of axle are \",self.num_axle)\n",
    "         print(\"loadd capacity is \",self.load_cap)\n",
    "\n",
    "                          \n",
    "ob1=car(\"110cc\",\"KA32_546\",180000,\"BALCK\",\"5 SEATER\",5,\"60KM/HR\")\n",
    "ob1.show()\n",
    "print(\" \")\n",
    "ob2=truck(\"100CC\",\"KA32_476\",257687,\"BROWN\",8,\"2500KG\")\n",
    "ob2.show()"
   ]
  },
  {
   "cell_type": "code",
   "execution_count": 9,
   "id": "eb7c904c-b558-4dab-a7a7-95096595142b",
   "metadata": {},
   "outputs": [
    {
     "name": "stdout",
     "output_type": "stream",
     "text": [
      "employee details are :\n",
      "employee id is   123\n",
      "employee name is xyz\n",
      "employee salary is  25512\n",
      "work type of employee is  intern\n",
      "work area is traing\n",
      " \n",
      "employee details are :\n",
      "employee id is   456\n",
      "employee name is wfs\n",
      "employee salary is  50678\n",
      "module is  full stack development\n",
      "technology is  html,java\n",
      "experience is  2 yrs\n",
      " \n",
      "employee details are :\n",
      "employee id is   1267\n",
      "employee name is njdhh\n",
      "employee salary is  125512\n",
      "project is  cyber security app\n",
      "client name is google\n"
     ]
    }
   ],
   "source": [
    "class employee:\n",
    "    def __init__(self,e,n,s):\n",
    "        self.e_id=e\n",
    "        self.e_name=n\n",
    "        self.e_salary=s\n",
    "    def show(self):\n",
    "        print(\"employee id is  \",self.e_id)\n",
    "        print(\"employee name is\",self.e_name)\n",
    "        print(\"employee salary is \",self.e_salary)\n",
    "        \n",
    "class s_staff(employee):\n",
    "     def __init__(self,e,n,s,t,a):\n",
    "        self.work_type=t\n",
    "        self.work_area=a\n",
    "        super().__init__(e,n,s)\n",
    "     def show(self):\n",
    "         print(\"employee details are :\")\n",
    "         super().show()\n",
    "         print(\"work type of employee is \",self.work_type)\n",
    "         print(\"work area is\",self.work_area)\n",
    "class developer(employee):\n",
    "     def __init__(self,e,n,s,m,p,w):\n",
    "        self.module=m\n",
    "        self.tech=p\n",
    "        self.exp=w\n",
    "        super().__init__(e,n,s)\n",
    "        \n",
    "     def show(self):\n",
    "         print(\"employee details are :\")\n",
    "         super().show()\n",
    "         print(\"module is \",self.module)\n",
    "         print(\"technology is \",self.tech)\n",
    "         print(\"experience is \",self.exp)\n",
    "\n",
    "class manager(employee):\n",
    "     def __init__(self,e,n,s,f,c):\n",
    "        self.project=f\n",
    "        self.client_name=c\n",
    "        super().__init__(e,n,s)\n",
    "     def show(self):\n",
    "         print(\"employee details are :\")\n",
    "         super().show()\n",
    "         print(\"project is \",self.project)\n",
    "         print(\"client name is\",self.client_name)\n",
    "         \n",
    "\n",
    "                          \n",
    "ob1=s_staff(123,\"xyz\",25512,\"intern\",\"traing\")\n",
    "ob1.show()\n",
    "print(\" \")\n",
    "ob2=developer(456,\"wfs\",50678,\"full stack development\",\"html,java\",\"2 yrs\")\n",
    "ob2.show()\n",
    "print(\" \")\n",
    "ob3=manager(1267,\"njdhh\",125512,\"cyber security app\",\"google\")\n",
    "ob3.show()"
   ]
  },
  {
   "cell_type": "code",
   "execution_count": 12,
   "id": "33e2175d-d9b2-4bae-a0e6-17b9296d0847",
   "metadata": {},
   "outputs": [
    {
     "name": "stdout",
     "output_type": "stream",
     "text": [
      "*\n",
      "**\n",
      "***\n",
      "****\n",
      "*****\n",
      "******\n",
      "*******\n",
      "********\n",
      "*********\n",
      "**********\n"
     ]
    }
   ],
   "source": [
    "for y in range(0,10):\n",
    "    for x in range(0,y+1):\n",
    "        print(\"*\",end=\"\")\n",
    "    print()\n",
    "    "
   ]
  },
  {
   "cell_type": "code",
   "execution_count": 16,
   "id": "d4a55584-3949-4c92-9d6b-55462327943d",
   "metadata": {},
   "outputs": [
    {
     "name": "stdout",
     "output_type": "stream",
     "text": [
      "*\n",
      "**\n",
      "***\n",
      "****\n",
      "*****\n",
      "******\n",
      "*******\n",
      "********\n",
      "*********\n",
      "**********\n"
     ]
    }
   ],
   "source": [
    "for x in range(0,10):\n",
    "    for y in range(0,x+1):\n",
    "        print(\"*\",end=\"\")\n",
    "    print()\n",
    "    "
   ]
  },
  {
   "cell_type": "code",
   "execution_count": 1,
   "id": "46133691-58b1-40b6-9a6a-0ec7684b1fa4",
   "metadata": {},
   "outputs": [
    {
     "name": "stdout",
     "output_type": "stream",
     "text": [
      "*   *   *   *   *   \n",
      "*   *   *   *   \n",
      "*   *   *   \n",
      "*   *   \n",
      "*   \n"
     ]
    }
   ],
   "source": [
    "for y in range(0,5):\n",
    "    for x in range(0,5-y):\n",
    "         print(\"*\",\" \",end=\" \")\n",
    "    print()\n",
    "    \n",
    "    "
   ]
  },
  {
   "cell_type": "code",
   "execution_count": 89,
   "id": "cf2a40cd-0119-44df-82c0-0c7271ec4d9f",
   "metadata": {},
   "outputs": [
    {
     "name": "stdin",
     "output_type": "stream",
     "text": [
      " 5\n"
     ]
    },
    {
     "name": "stdout",
     "output_type": "stream",
     "text": [
      "* * * * * \n",
      "*       * \n",
      "*       * \n",
      "*       * \n",
      "* * * * * \n"
     ]
    }
   ],
   "source": [
    "n=int(input())\n",
    "for i in range(0,n):\n",
    "    for j in range(0,n):\n",
    "        if i==(n-1) or j==(n-1) or i==0 or j==0:\n",
    "            print(\"*\",end=\" \")\n",
    "        else:\n",
    "            print(\" \",end=\" \")\n",
    "    print()"
   ]
  },
  {
   "cell_type": "code",
   "execution_count": 7,
   "id": "a8030fdb-8edd-486b-a122-16d89331f3d1",
   "metadata": {},
   "outputs": [
    {
     "name": "stdout",
     "output_type": "stream",
     "text": [
      "1\n",
      "0\n",
      "1\n",
      "0\n",
      "1\n",
      "1\n",
      "0\n",
      "1\n",
      "0\n",
      "1\n",
      "0\n",
      "1\n",
      "0\n",
      "1\n",
      "\n"
     ]
    }
   ],
   "source": [
    "for x in range(0,4):\n",
    "    for y in range(0,x+2):\n",
    "        if y%2==0 :\n",
    "            print(\"1\"+\"\\n\",end=\"\")\n",
    "        else:\n",
    "            print(\"0\"+\"\\n\",end=\"\")\n",
    "                \n",
    "print()\n",
    "    \n"
   ]
  },
  {
   "cell_type": "code",
   "execution_count": null,
   "id": "1bb19145-c2f0-4909-a89e-e381dcbdbca4",
   "metadata": {},
   "outputs": [],
   "source": []
  },
  {
   "cell_type": "code",
   "execution_count": null,
   "id": "43025952-85d5-4aec-a073-181e5e9d071f",
   "metadata": {},
   "outputs": [],
   "source": []
  },
  {
   "cell_type": "code",
   "execution_count": null,
   "id": "f14520d4-1391-4dbd-8f1d-bf12ecf3b9b2",
   "metadata": {},
   "outputs": [],
   "source": []
  }
 ],
 "metadata": {
  "kernelspec": {
   "display_name": "Python 3 (ipykernel)",
   "language": "python",
   "name": "python3"
  },
  "language_info": {
   "codemirror_mode": {
    "name": "ipython",
    "version": 3
   },
   "file_extension": ".py",
   "mimetype": "text/x-python",
   "name": "python",
   "nbconvert_exporter": "python",
   "pygments_lexer": "ipython3",
   "version": "3.12.3"
  }
 },
 "nbformat": 4,
 "nbformat_minor": 5
}
