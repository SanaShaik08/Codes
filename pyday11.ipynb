{
 "cells": [
  {
   "cell_type": "code",
   "execution_count": 1,
   "id": "5c96fc49-3b03-4746-99bf-971efbd56d6c",
   "metadata": {},
   "outputs": [
    {
     "name": "stdout",
     "output_type": "stream",
     "text": [
      "node 1 <__main__.node object at 0x0000029C689672C0> 1\n",
      "node 2 <__main__.node object at 0x0000029C69D76CF0> 2\n",
      "node 3 <__main__.node object at 0x0000029C69D77200> 3\n",
      "node 4 <__main__.node object at 0x0000029C69D767E0> 4\n"
     ]
    }
   ],
   "source": [
    "class node:\n",
    "    def __init__(self,value):\n",
    "        self.data=value\n",
    "        self.next=None\n",
    "\n",
    "head= node(1)\n",
    "head.next=node(2)\n",
    "head.next.next=node(3)\n",
    "head.next.next.next=node(4)\n",
    "\n",
    "print(\"node 1\",head,head.data)\n",
    "print(\"node 2\",head.next,head.next.data)\n",
    "print(\"node 3\",head.next.next,head.next.next.data)\n",
    "print(\"node 4\",head.next.next.next,head.next.next.next.data)"
   ]
  },
  {
   "cell_type": "code",
   "execution_count": 5,
   "id": "168b7061-29b6-4499-995d-996767f546ce",
   "metadata": {},
   "outputs": [
    {
     "name": "stdout",
     "output_type": "stream",
     "text": [
      "new node 1\n",
      "node 1 <__main__.node object at 0x0000029C69DBF980> 1\n",
      "node 2 <__main__.node object at 0x0000029C69CF8560> 2\n",
      "node 3 <__main__.node object at 0x0000029C689672C0> 3\n",
      "node 4 <__main__.node object at 0x0000029C69D76CF0> 4\n"
     ]
    }
   ],
   "source": [
    "class node:\n",
    "    def __init__(self,value):\n",
    "        self.data=value\n",
    "        self.next=None\n",
    "\n",
    "head= node(1)\n",
    "head.next=node(2)\n",
    "head.next.next=node(3)\n",
    "head.next.next.next=node(4)\n",
    "\n",
    "def frontinsert(value,data):\n",
    "    new_node=node(data)\n",
    "    if self.head==None:\n",
    "        sel.head=new_node\n",
    "    else:\n",
    "        new_node.next=self.hesd\n",
    "        self.head=new_node\n",
    "print(\"new node\",head.data)\n",
    "print(\"node 1\",head,head.data)\n",
    "print(\"node 2\",head.next,head.next.data)\n",
    "print(\"node 3\",head.next.next,head.next.next.data)\n",
    "print(\"node 4\",head.next.next.next,head.next.next.next.data)\n",
    "    \n",
    "\n",
    "\n",
    "\n",
    "\n"
   ]
  },
  {
   "cell_type": "code",
   "execution_count": 13,
   "id": "c5399a6a-dc2b-493d-b44d-b7aaa3b3c8d4",
   "metadata": {},
   "outputs": [
    {
     "name": "stdin",
     "output_type": "stream",
     "text": [
      "Enter choice:  1\n",
      "Enter value to insert at front:  2\n"
     ]
    },
    {
     "name": "stdout",
     "output_type": "stream",
     "text": [
      "2 --> None\n"
     ]
    }
   ],
   "source": [
    "class Node:\n",
    "    def __init__(self, value):\n",
    "        self.data = value\n",
    "        self.next = None\n",
    "\n",
    "class LinkedList:\n",
    "    def __init__(self):\n",
    "        self.head = None\n",
    "\n",
    "    def front_insert(self, value):\n",
    "        new_node = Node(value)\n",
    "        new_node.next = self.head\n",
    "        self.head = new_node\n",
    "\n",
    "    def end_insert(self, data):\n",
    "        new_node = Node(data)\n",
    "        if self.head is None:\n",
    "            self.head = new_node\n",
    "            return\n",
    "        temp = self.head\n",
    "        while temp.next is not None:\n",
    "            temp = temp.next\n",
    "        temp.next = new_node\n",
    "\n",
    "# Create a linked list object\n",
    "linked_list = LinkedList()\n",
    "\n",
    "# Example usage\n",
    "ch = int(input(\"Enter choice: \"))\n",
    "if ch == 1:\n",
    "    value = int(input(\"Enter value to insert at front: \"))\n",
    "    linked_list.front_insert(value)\n",
    "elif ch == 2:\n",
    "    data = int(input(\"Enter data to insert at end: \"))\n",
    "    linked_list.end_insert(data)\n",
    "# Handle other cases similarly for your other operations\n",
    "\n",
    "# Display the linked list\n",
    "current = linked_list.head\n",
    "while current is not None:\n",
    "    print(current.data, end=\" --> \")\n",
    "    current = current.next\n",
    "print(\"None\")"
   ]
  },
  {
   "cell_type": "code",
   "execution_count": 15,
   "id": "d215249e-8bff-4bc8-99a6-c9e30e19d026",
   "metadata": {},
   "outputs": [
    {
     "name": "stdout",
     "output_type": "stream",
     "text": [
      "preorder traversal\n",
      "1\n",
      "2\n",
      "4\n",
      "5\n",
      "3\n",
      "6\n",
      "7\n",
      "\n",
      "postorder traversal\n",
      "4\n",
      "5\n",
      "2\n",
      "6\n",
      "7\n",
      "3\n",
      "1\n",
      "\n",
      "inorder traversal\n",
      "4\n",
      "2\n",
      "5\n",
      "1\n",
      "6\n",
      "3\n",
      "7\n",
      "\n",
      "level order traversal\n",
      "1 \n",
      "2 3 \n",
      "4 5 6 7 \n"
     ]
    }
   ],
   "source": [
    "class node:\n",
    "    def __init__(self,value):\n",
    "        self.data=value\n",
    "        self.left=None\n",
    "        self.right=None\n",
    "\n",
    "def preorder(root):\n",
    "    if root == None:\n",
    "        return\n",
    "    print(root.data)\n",
    "    preorder(root.left)\n",
    "    preorder(root.right)\n",
    "    \n",
    "def postorder(root):\n",
    "    if root == None:\n",
    "        return\n",
    "    postorder(root.left)\n",
    "    postorder(root.right)\n",
    "    print(root.data)\n",
    "\n",
    "def inorder(root):\n",
    "    if root == None:\n",
    "        return\n",
    "    inorder(root.left)\n",
    "    print(root.data)\n",
    "    inorder(root.right)\n",
    "\n",
    "def levelorder(root):\n",
    "    q=[root,None]\n",
    "    while q:\n",
    "        curr = q.pop(0)\n",
    "        if curr == None:\n",
    "            print()\n",
    "            if q:\n",
    "                q.append(curr)\n",
    "        else:\n",
    "            print(curr.data,end=\" \")\n",
    "            if curr.left != None:\n",
    "                q.append(curr.left)\n",
    "            if curr.right != None:\n",
    "                q.append(curr.right)\n",
    "    \n",
    "\n",
    "\n",
    "\n",
    "\n",
    "root = node(1)\n",
    "root.left=node(2)\n",
    "root.right=node(3)\n",
    "\n",
    "root.left.left = node(4)\n",
    "root.left.right = node(5)\n",
    "\n",
    "root.right.left = node(6)\n",
    "root.right.right = node(7)\n",
    "print(\"preorder traversal\")\n",
    "preorder(root)\n",
    "print(\"\")\n",
    "print(\"postorder traversal\")\n",
    "postorder(root)\n",
    "print(\"\")\n",
    "print(\"inorder traversal\")\n",
    "inorder(root)\n",
    "print(\"\")\n",
    "print(\"level order traversal\")\n",
    "levelorder(root)"
   ]
  },
  {
   "cell_type": "code",
   "execution_count": null,
   "id": "ff3e2bf1-d55c-4b01-9751-37f53b699222",
   "metadata": {},
   "outputs": [],
   "source": []
  },
  {
   "cell_type": "code",
   "execution_count": null,
   "id": "71754f69-a481-444b-bcd3-3760f75bffe5",
   "metadata": {},
   "outputs": [],
   "source": []
  }
 ],
 "metadata": {
  "kernelspec": {
   "display_name": "Python 3 (ipykernel)",
   "language": "python",
   "name": "python3"
  },
  "language_info": {
   "codemirror_mode": {
    "name": "ipython",
    "version": 3
   },
   "file_extension": ".py",
   "mimetype": "text/x-python",
   "name": "python",
   "nbconvert_exporter": "python",
   "pygments_lexer": "ipython3",
   "version": "3.12.3"
  }
 },
 "nbformat": 4,
 "nbformat_minor": 5
}
