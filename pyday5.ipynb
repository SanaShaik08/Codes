{
 "cells": [
  {
   "cell_type": "code",
   "execution_count": 7,
   "id": "5af442bf-c6bb-40b2-b44b-784ae23e6404",
   "metadata": {},
   "outputs": [
    {
     "name": "stdout",
     "output_type": "stream",
     "text": [
      "the configuration of laptop is: \n",
      "processor i5\n",
      "ram 8\n",
      "storage 512\n"
     ]
    }
   ],
   "source": [
    "class Laptop:\n",
    "    def __init__(self,value1,value2,value3):\n",
    "        self.processor=value1\n",
    "        self.ram=value2\n",
    "        self.storage=value3\n",
    "    def config(self):\n",
    "        print(\"the configuration of laptop is: \")\n",
    "        print(\"processor\",self.processor)\n",
    "        print(\"ram\",self.ram)\n",
    "        print(\"storage\",self.storage)\n",
    "\n",
    "if __name__==\"__main__\":\n",
    "    hp = Laptop(\"i5\",8,512)\n",
    "    hp.config()\n",
    "\n",
    "\n",
    "    \n",
    "   \n",
    "    \n",
    "    \n",
    "    \n"
   ]
  },
  {
   "cell_type": "code",
   "execution_count": 16,
   "id": "251aff17-7c83-47d3-a2b4-70316db57d88",
   "metadata": {},
   "outputs": [
    {
     "name": "stdout",
     "output_type": "stream",
     "text": [
      "marks of students are: \n",
      "english 78\n",
      "maths 87\n",
      "science 98\n",
      "social 65\n",
      "computers 78\n",
      "avg marks are \n",
      "81.2\n"
     ]
    }
   ],
   "source": [
    "class Student:\n",
    "    def __init__(self,m1,m2,m3,m4,m5):\n",
    "        self.english=m1\n",
    "        self.maths=m2\n",
    "        self.science=m3\n",
    "        self.social=m4\n",
    "        self.computers=m5\n",
    "    def config(self):\n",
    "        print(\"marks of students are: \")\n",
    "        print(\"english\",self.english)\n",
    "        print(\"maths\",self.maths)\n",
    "        print(\"science\",self.science)\n",
    "        print(\"social\",self.social)\n",
    "        print(\"computers\",self.computers)\n",
    "    def avg(self):\n",
    "        print(\"avg marks are \")\n",
    "        avg=(self.english+self.maths+self.science+self.social+self.computers)/5\n",
    "        print(avg)\n",
    "\n",
    "if __name__==\"__main__\":\n",
    "    sana = Student(78,87,98,65,78)\n",
    "    sana.config()\n",
    "    sana.avg()\n"
   ]
  },
  {
   "cell_type": "markdown",
   "id": "d82d8a3c-a9e3-449b-b842-9bc91f8c8f0e",
   "metadata": {},
   "source": [
    "access modifiers\n",
    "public normal\n",
    "protected _\n",
    "private __"
   ]
  },
  {
   "cell_type": "code",
   "execution_count": 4,
   "id": "b7cf4526-b1f7-42d5-ae8a-080176199807",
   "metadata": {},
   "outputs": [
    {
     "name": "stdout",
     "output_type": "stream",
     "text": [
      "constructor of classes c\n"
     ]
    }
   ],
   "source": [
    "class c:\n",
    "\n",
    "    def __init__(self):\n",
    "        print(\"constructor of classes c\")\n",
    "    def abc(self,a,b):\n",
    "        print(\"fun of class c with 12\")\n",
    "  \n",
    "ob=c()\n",
    "\n"
   ]
  },
  {
   "cell_type": "code",
   "execution_count": 11,
   "id": "9b9fd3bc-025f-4a8c-ae7e-db678ee19e04",
   "metadata": {},
   "outputs": [
    {
     "name": "stdout",
     "output_type": "stream",
     "text": [
      "gaming laptop has:\n",
      "processor 8\n",
      "ram 512\n",
      "storage 342\n",
      "graphic_card i5\n",
      " \n",
      "professional laptop has:\n",
      "processor 16\n",
      "ram 1tb\n",
      "storage 789\n",
      "battery_backup i7\n"
     ]
    }
   ],
   "source": [
    "class Laptop:\n",
    "    def __init__(self,p,r,s):\n",
    "        self.processor=p\n",
    "        self.ram=r\n",
    "        self.storage=s\n",
    "    def show(self):\n",
    "        print(\"the configuration of laptop is: \")\n",
    "        print(\"processor\",self.processor)\n",
    "        print(\"ram\",self.ram)\n",
    "        print(\"storage\",self.storage)\n",
    "        \n",
    "class professional_laptop(Laptop):\n",
    "     def __init__(self,b,p,r,s):\n",
    "        self.battery_backup=b\n",
    "        super().__init__(p,r,s)\n",
    "     def show(self):\n",
    "         print(\"professional laptop has:\")\n",
    "         print(\"processor\",self.processor)\n",
    "         print(\"ram\",self.ram)\n",
    "         print(\"storage\",self.storage)\n",
    "         print(\"battery_backup\",self.battery_backup)\n",
    "class gaming_laptop(Laptop):\n",
    "     def __init__(self,g,p,r,s):\n",
    "        self.graphic_card=g\n",
    "        super().__init__(p,r,s)\n",
    "        \n",
    "     def show(self):\n",
    "         print(\"gaming laptop has:\")\n",
    "         print(\"processor\",self.processor)\n",
    "         print(\"ram\",self.ram)\n",
    "         print(\"storage\",self.storage)\n",
    "         print(\"graphic_card\",self.graphic_card)\n",
    "                          \n",
    "ob1=gaming_laptop(\"i5\",8,512,342)\n",
    "ob1.show()\n",
    "print(\" \")\n",
    "ob2=professional_laptop(\"i7\",16,\"1tb\",789)\n",
    "ob2.show()\n",
    "    \n",
    "  \n",
    "\n",
    "    \n",
    "   \n",
    "    \n",
    "    "
   ]
  },
  {
   "cell_type": "code",
   "execution_count": 13,
   "id": "641ca1c5-4a41-485b-8c39-7ec1d0369dd5",
   "metadata": {},
   "outputs": [
    {
     "name": "stdout",
     "output_type": "stream",
     "text": [
      "gaming laptop has:\n",
      "the configuration of laptop is: \n",
      "processor is 8\n",
      "ram is 512\n",
      "storage is 342\n",
      "graphic_card is i5\n",
      " \n",
      "professional laptop has:\n",
      "the configuration of laptop is: \n",
      "processor is 16\n",
      "ram is 1tb\n",
      "storage is 789\n",
      "battery_backup i7\n"
     ]
    }
   ],
   "source": [
    "class Laptop:\n",
    "    def __init__(self,p,r,s):\n",
    "        self.processor=p\n",
    "        self.ram=r\n",
    "        self.storage=s\n",
    "    def show(self):\n",
    "        print(\"the configuration of laptop is: \")\n",
    "        print(\"processor is\",self.processor)\n",
    "        print(\"ram is\",self.ram)\n",
    "        print(\"storage is\",self.storage)\n",
    "        \n",
    "class professional_laptop(Laptop):\n",
    "     def __init__(self,b,p,r,s):\n",
    "        self.battery_backup=b\n",
    "        super().__init__(p,r,s)\n",
    "     def show(self):\n",
    "         print(\"professional laptop has:\")\n",
    "         super().show()\n",
    "         print(\"battery_backup\",self.battery_backup)\n",
    "class gaming_laptop(Laptop):\n",
    "     def __init__(self,g,p,r,s):\n",
    "        self.graphic_card=g\n",
    "        super().__init__(p,r,s)\n",
    "        \n",
    "     def show(self):\n",
    "         print(\"gaming laptop has:\")\n",
    "         super().show()\n",
    "         print(\"graphic_card is\",self.graphic_card)\n",
    "                          \n",
    "ob1=gaming_laptop(\"i5\",8,512,342)\n",
    "ob1.show()\n",
    "print(\" \")\n",
    "ob2=professional_laptop(\"i7\",16,\"1tb\",789)\n",
    "ob2.show()"
   ]
  },
  {
   "cell_type": "code",
   "execution_count": 1,
   "id": "fbe29630-e98e-42df-807c-5e31e317752f",
   "metadata": {},
   "outputs": [
    {
     "ename": "TypeError",
     "evalue": "slp.__init__() takes 2 positional arguments but 3 were given",
     "output_type": "error",
     "traceback": [
      "\u001b[1;31m---------------------------------------------------------------------------\u001b[0m",
      "\u001b[1;31mTypeError\u001b[0m                                 Traceback (most recent call last)",
      "Cell \u001b[1;32mIn[1], line 41\u001b[0m\n\u001b[0;32m     37\u001b[0m         \u001b[38;5;28mself\u001b[39m\u001b[38;5;241m.\u001b[39mfarePrice\u001b[38;5;241m=\u001b[39m\u001b[38;5;28msuper\u001b[39m()\u001b[38;5;241m.\u001b[39mprint_ticket()\u001b[38;5;241m+\u001b[39m(\u001b[38;5;241m5\u001b[39m\u001b[38;5;241m*\u001b[39m\u001b[38;5;28mself\u001b[39m\u001b[38;5;241m.\u001b[39mdistance)\n\u001b[0;32m     38\u001b[0m         \u001b[38;5;28;01mreturn\u001b[39;00m \u001b[38;5;28mself\u001b[39m\u001b[38;5;241m.\u001b[39mfarePrice\n\u001b[1;32m---> 41\u001b[0m jur \u001b[38;5;241m=\u001b[39m \u001b[43mFC\u001b[49m\u001b[43m(\u001b[49m\u001b[38;5;241;43m500\u001b[39;49m\u001b[43m,\u001b[49m\u001b[38;5;241;43m0\u001b[39;49m\u001b[43m)\u001b[49m\n\u001b[0;32m     42\u001b[0m \u001b[38;5;28mprint\u001b[39m(\u001b[38;5;124m\"\u001b[39m\u001b[38;5;124mTicket booked Fare Price will be: \u001b[39m\u001b[38;5;124m\"\u001b[39m,\u001b[38;5;28msuper\u001b[39m\u001b[38;5;241m.\u001b[39mprint_ticket())\n",
      "Cell \u001b[1;32mIn[1], line 35\u001b[0m, in \u001b[0;36mFC.__init__\u001b[1;34m(self, D, f)\u001b[0m\n\u001b[0;32m     34\u001b[0m \u001b[38;5;28;01mdef\u001b[39;00m \u001b[38;5;21m__init__\u001b[39m(\u001b[38;5;28mself\u001b[39m,D,f):\n\u001b[1;32m---> 35\u001b[0m     \u001b[38;5;28;43msuper\u001b[39;49m\u001b[43m(\u001b[49m\u001b[43m)\u001b[49m\u001b[38;5;241;43m.\u001b[39;49m\u001b[38;5;21;43m__init__\u001b[39;49m\u001b[43m(\u001b[49m\u001b[43mD\u001b[49m\u001b[43m,\u001b[49m\u001b[43mf\u001b[49m\u001b[43m)\u001b[49m\n",
      "\u001b[1;31mTypeError\u001b[0m: slp.__init__() takes 2 positional arguments but 3 were given"
     ]
    }
   ],
   "source": [
    "class ticket:\n",
    "   \n",
    "    def __init__(self,D,f):\n",
    "        self.distance = int(D)\n",
    "        self.fareprice = int(f)\n",
    "    def print_ticket(self):\n",
    "        self.farePrice=50+(self.distance*2)\n",
    "        return self.farePrice\n",
    "\n",
    "class gen(ticket):\n",
    "    def __init__(self,D):\n",
    "        super().__init__(D)\n",
    "    def print_ticket(self):\n",
    "       self.farePrice=super().print_ticket()\n",
    "        \n",
    "\n",
    "\n",
    "class slp(gen):\n",
    "    def __init__(self,D):\n",
    "        super().__init__(D)\n",
    "\n",
    "    def print_ticket(self):\n",
    "        self.farePrice=super().print_ticket()+(2*self.distance)\n",
    "        return self.farePrice\n",
    "\n",
    "class AC(slp):\n",
    "    def _init_(self,D,f):\n",
    "        super().__init__(D,f)\n",
    "    def print_ticket(self):\n",
    "        self.farePrice=super().print_ticket()+(4*self.distance)\n",
    "        return self.farePrice\n",
    "\n",
    "class FC(AC):\n",
    "    def __init__(self,D,f):\n",
    "        super().__init__(D,f)\n",
    "    def print_ticket(self):\n",
    "        self.farePrice=super().print_ticket()+(5*self.distance)\n",
    "        return self.farePrice\n",
    "\n",
    "\n",
    "jur = FC(500,0)\n",
    "print(\"Ticket booked Fare Price will be: \",super.print_ticket())"
   ]
  },
  {
   "cell_type": "code",
   "execution_count": null,
   "id": "7a4b4b5e-0b23-4f84-8ddc-9f435447bdcf",
   "metadata": {},
   "outputs": [],
   "source": []
  }
 ],
 "metadata": {
  "kernelspec": {
   "display_name": "Python 3 (ipykernel)",
   "language": "python",
   "name": "python3"
  },
  "language_info": {
   "codemirror_mode": {
    "name": "ipython",
    "version": 3
   },
   "file_extension": ".py",
   "mimetype": "text/x-python",
   "name": "python",
   "nbconvert_exporter": "python",
   "pygments_lexer": "ipython3",
   "version": "3.12.3"
  }
 },
 "nbformat": 4,
 "nbformat_minor": 5
}
