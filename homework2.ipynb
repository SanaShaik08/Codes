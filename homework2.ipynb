{
 "cells": [
  {
   "cell_type": "code",
   "execution_count": 2,
   "id": "99325aa9-c314-4e75-b197-a781ebbc4ece",
   "metadata": {},
   "outputs": [
    {
     "name": "stdin",
     "output_type": "stream",
     "text": [
      "enter temperature 0\n"
     ]
    },
    {
     "name": "stdout",
     "output_type": "stream",
     "text": [
      "temperature in Celsius to Fahrenheit. 0 C -> 32.0 F\n"
     ]
    }
   ],
   "source": [
    "#Convert a temperature from Celsius to Fahrenheit.\n",
    "\n",
    "temperature=int(input(\"enter temperature\"))\n",
    "f=temperature*(9/5)+32\n",
    "print(\"temperature in Celsius to Fahrenheit.\",temperature,\"C\",\"->\",f,\"F\")"
   ]
  },
  {
   "cell_type": "code",
   "execution_count": 7,
   "id": "ffeea423-aafb-489d-8d37-1cbe8aae5377",
   "metadata": {},
   "outputs": [
    {
     "name": "stdin",
     "output_type": "stream",
     "text": [
      "enter the 1st fruit name: apple\n",
      "enter the 2nd fruit name: banana\n",
      "enter the 3rd fruit name: mango\n"
     ]
    }
   ],
   "source": [
    "#Create a file Named as Fruit name\n",
    "#and Add the fruit names by taking input from the user.\n",
    "#after that replace a fruit name with other fruit name entered by the user.\n",
    "\n",
    "\n",
    "import os\n",
    "with open(\"fruitsnam.txt\",'w')as f:\n",
    "    f.write(input(\"enter the 1st fruit name:\")+'\\n')\n",
    "    f.write(input(\"enter the 2nd fruit name:\")+'\\n')\n",
    "    f.write(input(\"enter the 3rd fruit name:\")+'\\n')\n",
    "    f.close()\n",
    "\n",
    "\n",
    "\n",
    "    "
   ]
  },
  {
   "cell_type": "code",
   "execution_count": 8,
   "id": "3cd893f7-074d-445e-9376-c400b805704e",
   "metadata": {},
   "outputs": [
    {
     "name": "stdout",
     "output_type": "stream",
     "text": [
      "apple\n",
      "banana\n",
      "mango\n",
      "\n"
     ]
    }
   ],
   "source": [
    "import os\n",
    "with open(\"fruitsnam.txt\",'r') as f:\n",
    "    a= f.read()\n",
    "    print(a)\n",
    "    f.close\n"
   ]
  },
  {
   "cell_type": "code",
   "execution_count": 9,
   "id": "525d6b89-82df-4f70-96f3-53f65497ff55",
   "metadata": {},
   "outputs": [
    {
     "name": "stdin",
     "output_type": "stream",
     "text": [
      "enter the name to be changed: banana\n",
      "enter the new name: watermelon\n"
     ]
    }
   ],
   "source": [
    "\n",
    "import os\n",
    "with open(\"fruitsnam.txt\",'r') as f:\n",
    "    a= f.read()\n",
    "    c=input(\"enter the name to be changed:\")\n",
    "    d=input(\"enter the new name:\")\n",
    "    b=a.replace(c,d)\n",
    "    with open(\"fruitsnam.txt\",'w')as f:\n",
    "        f.write(b)"
   ]
  },
  {
   "cell_type": "code",
   "execution_count": 10,
   "id": "ead50937-d99a-4cac-abc0-1a4c36179206",
   "metadata": {},
   "outputs": [
    {
     "name": "stdout",
     "output_type": "stream",
     "text": [
      "The second largest element of the list is: 60\n"
     ]
    }
   ],
   "source": [
    "#Find the second largest element in a list.\n",
    "\n",
    "list = [27, 38, 37, 85, 60]    \n",
    "list.sort()    \n",
    "print(\"The second largest element of the list is:\", list[-2])  \n"
   ]
  },
  {
   "cell_type": "code",
   "execution_count": 28,
   "id": "9ebfe7c0-7a4f-4e61-9615-770b70e82b87",
   "metadata": {},
   "outputs": [
    {
     "name": "stdin",
     "output_type": "stream",
     "text": [
      "enter the element: 5\n"
     ]
    },
    {
     "name": "stdout",
     "output_type": "stream",
     "text": [
      "3\n"
     ]
    }
   ],
   "source": [
    "#Count the occurrences of each element in a list.\n",
    "ele_list = [1, 1, 2, 5,5,5,2,3,4,4,1,1,2,6,1]\n",
    "x=int(input(\"enter the element:\"))\n",
    "print(ele_list.count(x))"
   ]
  },
  {
   "cell_type": "code",
   "execution_count": 25,
   "id": "81199cc6-8871-408f-9c0c-15fcec9f6544",
   "metadata": {},
   "outputs": [
    {
     "name": "stdout",
     "output_type": "stream",
     "text": [
      "60\n"
     ]
    }
   ],
   "source": [
    "#Find the sum of all even numbers in a list.\n",
    "\n",
    "myList = [1, 3, 5, 6, 8, 10, 34, 2, 0, 3]\n",
    "total = 0\n",
    "for item in myList:\n",
    "    if not item%2:\n",
    "        total += item\n",
    "print(total)\n"
   ]
  },
  {
   "cell_type": "code",
   "execution_count": 26,
   "id": "dfbcc466-e7b0-4655-a6bd-ecc1362e25de",
   "metadata": {},
   "outputs": [
    {
     "name": "stdout",
     "output_type": "stream",
     "text": [
      "Number of vowels in the given string is:  8\n"
     ]
    }
   ],
   "source": [
    "#Count the number of vowels in a string.\n",
    "\n",
    "string= \" creating a list of vowels\"\n",
    "count = 0\n",
    "vowels = [\"a\", \"e\", \"i\", \"o\", \"u\"]\n",
    "for i in range(len(string)):\n",
    "    if string[i] in vowels:\n",
    "        count += 1\n",
    "\n",
    "print(\"Number of vowels in the given string is: \", count)"
   ]
  },
  {
   "cell_type": "code",
   "execution_count": 30,
   "id": "02715fe3-2446-4c02-af50-dc74401f22d1",
   "metadata": {},
   "outputs": [
    {
     "name": "stdin",
     "output_type": "stream",
     "text": [
      "enter the string: adfgkjfy\n"
     ]
    },
    {
     "name": "stdout",
     "output_type": "stream",
     "text": [
      "y\n",
      "f\n",
      "j\n",
      "k\n",
      "g\n",
      "f\n",
      "d\n",
      "a\n"
     ]
    }
   ],
   "source": [
    "#Reverse the words in a given sentence.\n",
    "string=input(\"enter the string:\")\n",
    "for char in reversed(string):\n",
    "  print(char)"
   ]
  },
  {
   "cell_type": "code",
   "execution_count": null,
   "id": "f6971d0e-5591-44d5-adf5-50bc8a89ec7b",
   "metadata": {},
   "outputs": [],
   "source": []
  }
 ],
 "metadata": {
  "kernelspec": {
   "display_name": "Python 3 (ipykernel)",
   "language": "python",
   "name": "python3"
  },
  "language_info": {
   "codemirror_mode": {
    "name": "ipython",
    "version": 3
   },
   "file_extension": ".py",
   "mimetype": "text/x-python",
   "name": "python",
   "nbconvert_exporter": "python",
   "pygments_lexer": "ipython3",
   "version": "3.12.3"
  }
 },
 "nbformat": 4,
 "nbformat_minor": 5
}
