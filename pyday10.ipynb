{
 "cells": [
  {
   "cell_type": "code",
   "execution_count": 3,
   "id": "5b3317af-aae0-4e6e-b72f-40917ac4fd5c",
   "metadata": {},
   "outputs": [
    {
     "name": "stdout",
     "output_type": "stream",
     "text": [
      "4\n",
      "8\n",
      "12\n",
      "16\n",
      "20\n",
      "24\n",
      "28\n",
      "32\n",
      "36\n",
      "40\n"
     ]
    }
   ],
   "source": [
    "for i in range(1,11):\n",
    "    print(i*4)"
   ]
  },
  {
   "cell_type": "code",
   "execution_count": 9,
   "id": "e9a36d56-f0b2-4a0d-bac3-9e5b40ed996a",
   "metadata": {},
   "outputs": [],
   "source": [
    "def fun(i):\n",
    "    if i==11:\n",
    "        return\n",
    "    print(i*2)\n",
    "    i==1\n",
    "    i=i+1\n",
    "    fun(i)\n",
    "    return"
   ]
  },
  {
   "cell_type": "code",
   "execution_count": 35,
   "id": "d317a1ee-c1b5-41bd-84bd-1ec90fffddf5",
   "metadata": {},
   "outputs": [
    {
     "name": "stdin",
     "output_type": "stream",
     "text": [
      " 5\n"
     ]
    },
    {
     "name": "stdout",
     "output_type": "stream",
     "text": [
      "120\n"
     ]
    }
   ],
   "source": [
    "n=int(input())\n",
    "res=1\n",
    "for i in range(n,1,-1):\n",
    "    res*=i\n",
    "print(res)\n",
    "    \n",
    "    "
   ]
  },
  {
   "cell_type": "code",
   "execution_count": 42,
   "id": "33ec6536-b54a-413a-98b9-fb26bbb39e1b",
   "metadata": {},
   "outputs": [
    {
     "name": "stdin",
     "output_type": "stream",
     "text": [
      " 5\n"
     ]
    }
   ],
   "source": [
    "i=int(input())\n",
    "def fun(i):\n",
    "    if i==1:\n",
    "        return 1\n",
    "    return i*fun(i-1)\n",
    "    print(fun)"
   ]
  },
  {
   "cell_type": "code",
   "execution_count": 1,
   "id": "9df7b6ea-1782-4131-af98-7b8e0c29a429",
   "metadata": {},
   "outputs": [],
   "source": [
    "def fib(i):\n",
    "    n=int(input(\"enter the limit = \"))\n",
    "    for i in range(0,n):\n",
    "        print(i)\n",
    "        \n",
    "def fib(i):\n",
    "    if i==0 or i==1:\n",
    "        return\n",
    "    else:\n",
    "        fib(i-1)+fib(i-2)\n",
    "        return\n",
    "    \n",
    "    \n"
   ]
  },
  {
   "cell_type": "code",
   "execution_count": 8,
   "id": "70426a1b-63e7-4360-83ff-ce0f79f8b2d8",
   "metadata": {},
   "outputs": [
    {
     "name": "stdin",
     "output_type": "stream",
     "text": [
      " 10\n"
     ]
    },
    {
     "name": "stdout",
     "output_type": "stream",
     "text": [
      "1\n",
      "3\n",
      "6\n",
      "10\n",
      "15\n",
      "21\n",
      "28\n",
      "36\n",
      "45\n"
     ]
    }
   ],
   "source": [
    "n=int(input())\n",
    "sum=0\n",
    "for i in range(1,n):\n",
    "    sum=sum+i\n",
    "    print(sum)"
   ]
  },
  {
   "cell_type": "code",
   "execution_count": 11,
   "id": "0039fd50-1636-4a92-931a-ec27e852185c",
   "metadata": {},
   "outputs": [
    {
     "name": "stdout",
     "output_type": "stream",
     "text": [
      "[1, 2, 3, 4, 5, 6, 7, 8, 9]\n"
     ]
    }
   ],
   "source": [
    "\n",
    "def finfpe(ar,low,high):\n",
    "    pe=ar[high]\n",
    "    j=low-1\n",
    "    for i in range(low,high):\n",
    "        if pe>ar[i]:\n",
    "            j+=1\n",
    "            ar[i],ar[j]=ar[j],ar[i]\n",
    "\n",
    "    ar[high],ar[j+1]=ar[j+1],ar[high]\n",
    "    return j+1\n",
    "\n",
    "def quicksort(ar,low,high):\n",
    "    if low < high:\n",
    "        pe = finfpe(ar,low,high)\n",
    "        quicksort(ar,low,pe-1)\n",
    "        quicksort(ar,pe+1,high)\n",
    "\n",
    "ar = [3,4,6,5,8,9,1,2,7]\n",
    "quicksort(ar,0,len(ar)-1)\n",
    "print(ar)\n"
   ]
  },
  {
   "cell_type": "code",
   "execution_count": 4,
   "id": "e8d09596-b809-4fed-a558-660ea3f44978",
   "metadata": {},
   "outputs": [
    {
     "name": "stdout",
     "output_type": "stream",
     "text": [
      "node 1 <__main__.node object at 0x000002044C8FF4D0> 1\n",
      "node 2 <__main__.node object at 0x000002044C917260> 2\n",
      "node 3 <__main__.node object at 0x000002044CA4FC80> 3\n",
      "node 4 <__main__.node object at 0x000002044CA4E810> 4\n"
     ]
    }
   ],
   "source": [
    "class node:\n",
    "    def __init__(self,value):\n",
    "        self.data=value\n",
    "        self.next=None\n",
    "\n",
    "head= node(1)\n",
    "head.next=node(2)\n",
    "head.next.next=node(3)\n",
    "head.next.next.next=node(4)\n",
    "\n",
    "print(\"node 1\",head,head.data)\n",
    "print(\"node 2\",head.next,head.next.data)\n",
    "print(\"node 3\",head.next.next,head.next.next.data)\n",
    "print(\"node 4\",head.next.next.next,head.next.next.next.data)"
   ]
  },
  {
   "cell_type": "code",
   "execution_count": null,
   "id": "ab92c768-323a-48d1-86d8-1c79dfff941f",
   "metadata": {},
   "outputs": [],
   "source": []
  }
 ],
 "metadata": {
  "kernelspec": {
   "display_name": "Python 3 (ipykernel)",
   "language": "python",
   "name": "python3"
  },
  "language_info": {
   "codemirror_mode": {
    "name": "ipython",
    "version": 3
   },
   "file_extension": ".py",
   "mimetype": "text/x-python",
   "name": "python",
   "nbconvert_exporter": "python",
   "pygments_lexer": "ipython3",
   "version": "3.12.3"
  }
 },
 "nbformat": 4,
 "nbformat_minor": 5
}
