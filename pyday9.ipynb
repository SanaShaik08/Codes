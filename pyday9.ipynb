{
 "cells": [
  {
   "cell_type": "code",
   "execution_count": 2,
   "id": "b2cb70de-d20c-4a36-b652-773c098679b6",
   "metadata": {},
   "outputs": [
    {
     "name": "stdout",
     "output_type": "stream",
     "text": [
      "gfedcba\n"
     ]
    }
   ],
   "source": [
    "s=\"abcdefg\"\n",
    "\n",
    "b=s[::-1]\n",
    "print(b)"
   ]
  },
  {
   "cell_type": "code",
   "execution_count": 10,
   "id": "19617d66-f0a8-499d-87ba-297ef332a5f0",
   "metadata": {},
   "outputs": [
    {
     "name": "stdin",
     "output_type": "stream",
     "text": [
      " this is a car\n"
     ]
    },
    {
     "name": "stdout",
     "output_type": "stream",
     "text": [
      "car a is this "
     ]
    }
   ],
   "source": [
    "a=input()\n",
    "s=[]\n",
    "for e in a.split():\n",
    "    s.append(e)\n",
    "while len(s)>0:\n",
    "    print(s.pop(),end=' ')"
   ]
  },
  {
   "cell_type": "code",
   "execution_count": 9,
   "id": "bccf3fab-d349-4849-905c-53904da488cf",
   "metadata": {},
   "outputs": [
    {
     "name": "stdin",
     "output_type": "stream",
     "text": [
      " hello world\n"
     ]
    },
    {
     "name": "stdout",
     "output_type": "stream",
     "text": [
      "dlrow olleh"
     ]
    }
   ],
   "source": [
    "a=input()\n",
    "s=[]\n",
    "for e in a:\n",
    "    s.append(e)\n",
    "while len(s)>0:\n",
    "    print(s.pop(),end=\"\")"
   ]
  },
  {
   "cell_type": "code",
   "execution_count": 11,
   "id": "a55e7ee5-c318-44bd-aadb-16786dd86a5b",
   "metadata": {},
   "outputs": [
    {
     "name": "stdin",
     "output_type": "stream",
     "text": [
      " a+b*(a+b)\n"
     ]
    },
    {
     "name": "stdout",
     "output_type": "stream",
     "text": [
      " abab+*+\n"
     ]
    }
   ],
   "source": [
    "def prec(e):\n",
    "    if e==\"^\":\n",
    "        return 3\n",
    "    elif e ==\"*\" or e==\"/\":\n",
    "        return 2\n",
    "    elif e== \"+\" or e==\"-\":\n",
    "        return 1\n",
    "    else:\n",
    "        return -1\n",
    "def asoc(e):\n",
    "    if e==\"^\":\n",
    "        return \"R\"\n",
    "    else:\n",
    "        return \"L\"\n",
    "a=input()\n",
    "s=[]\n",
    "res =\" \"\n",
    "for e in a:\n",
    "    if e.isalnum():\n",
    "        res += e\n",
    "    elif e =='(':\n",
    "        s.append(e)\n",
    "    elif e ==')':\n",
    "        while  s[-1] != '(':\n",
    "            res += s.pop()\n",
    "        s.pop()\n",
    "    else:\n",
    "        while s and (prec(e)<prec(s[-1]) or \n",
    "                     (prec(e)==prec(s[-1]) and asoc(e)=='L')):\n",
    "            res +=s.pop()\n",
    "        s.append(e)\n",
    "    \n",
    "while s:\n",
    "    res += s.pop()\n",
    "print(res)\n"
   ]
  },
  {
   "cell_type": "code",
   "execution_count": 20,
   "id": "09a74ae1-6b6c-4eef-86b4-9a063164996a",
   "metadata": {},
   "outputs": [
    {
     "name": "stdin",
     "output_type": "stream",
     "text": [
      " a d c r r a a c r d c c\n"
     ]
    },
    {
     "name": "stdout",
     "output_type": "stream",
     "text": [
      "4 ['a', 'd', 'r', 'd']\n"
     ]
    }
   ],
   "source": [
    "a=[item for item in input().split()]\n",
    "s=[]\n",
    "for item in a:\n",
    "    if not s:\n",
    "        s.append(item)\n",
    "    elif  s[-1] == item:\n",
    "        s.pop()\n",
    "    else:\n",
    "        s.append(item)\n",
    "print(len(s),s)"
   ]
  },
  {
   "cell_type": "code",
   "execution_count": 7,
   "id": "546b4789-cf60-4439-9ba2-a694fb2793b0",
   "metadata": {},
   "outputs": [
    {
     "name": "stdin",
     "output_type": "stream",
     "text": [
      " abc(fth{jkjk}oko\n"
     ]
    },
    {
     "name": "stdout",
     "output_type": "stream",
     "text": [
      "imbalance string\n"
     ]
    }
   ],
   "source": [
    "#valid string\n",
    "s=input()\n",
    "x=y=z=0\n",
    "for c in s:\n",
    "    match(c):\n",
    "     case'(':x+=1\n",
    "     case')':x-=1\n",
    "     case'{':y+=1\n",
    "     case'}':y-=1\n",
    "     case'[':z+=1\n",
    "     case']':z-=1\n",
    "     case _ :continue\n",
    "if x+y+z == 0:\n",
    "    print(\"balance string\")\n",
    "else:\n",
    "    print(\"imbalance string\")"
   ]
  },
  {
   "cell_type": "code",
   "execution_count": 23,
   "id": "45ac9249-5901-410d-802d-74e1b5892b83",
   "metadata": {},
   "outputs": [
    {
     "name": "stdin",
     "output_type": "stream",
     "text": [
      " {(])\n"
     ]
    },
    {
     "name": "stdout",
     "output_type": "stream",
     "text": [
      "invalid\n"
     ]
    }
   ],
   "source": [
    "a= input()\n",
    "s=[]\n",
    "for e in a:\n",
    "    if e =='(' or e == \"{\" or e== \"[\":\n",
    "        s.append(e)\n",
    "    elif (e ==')' and s[-1]=='(') or (e == '}' and s[-1]=='{' ) or (e== ']' and s[-1]=='['):\n",
    "        s.pop()\n",
    "    else:\n",
    "        continue\n",
    "\n",
    "if not s:\n",
    "    print(\"valid\")\n",
    "else:\n",
    "    print(\"invalid\")"
   ]
  },
  {
   "cell_type": "code",
   "execution_count": null,
   "id": "906132bd-4457-4bf3-ae4b-eb8b762bff5d",
   "metadata": {},
   "outputs": [],
   "source": []
  }
 ],
 "metadata": {
  "kernelspec": {
   "display_name": "Python 3 (ipykernel)",
   "language": "python",
   "name": "python3"
  },
  "language_info": {
   "codemirror_mode": {
    "name": "ipython",
    "version": 3
   },
   "file_extension": ".py",
   "mimetype": "text/x-python",
   "name": "python",
   "nbconvert_exporter": "python",
   "pygments_lexer": "ipython3",
   "version": "3.12.3"
  }
 },
 "nbformat": 4,
 "nbformat_minor": 5
}
