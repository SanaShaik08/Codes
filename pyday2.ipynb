{
 "cells": [
  {
   "cell_type": "code",
   "execution_count": 2,
   "id": "a9a1b0c3-ffbc-4175-9813-e5ceb37f86b3",
   "metadata": {},
   "outputs": [
    {
     "name": "stdin",
     "output_type": "stream",
     "text": [
      "enter your name madiha\n",
      "enter your age 17\n"
     ]
    },
    {
     "name": "stdout",
     "output_type": "stream",
     "text": [
      "madiha\n",
      "you are not eligible\n"
     ]
    }
   ],
   "source": [
    "name=input(\"enter your name:\")\n",
    "age=int(input(\"enter your age:\"))\n",
    "if age>=18:\n",
    "    print(name)\n",
    "    print(\"you are eligible\")\n",
    "else:\n",
    "        print(name)\n",
    "        print(\"you are not eligible\")\n",
    "    "
   ]
  },
  {
   "cell_type": "code",
   "execution_count": 3,
   "id": "c2fef867-d67f-4528-9628-530bf03063b5",
   "metadata": {},
   "outputs": [
    {
     "name": "stdin",
     "output_type": "stream",
     "text": [
      "enter the number: 7\n"
     ]
    },
    {
     "name": "stdout",
     "output_type": "stream",
     "text": [
      "7 its an odd number\n"
     ]
    }
   ],
   "source": [
    "num=int(input(\"enter the number:\"))\n",
    "if num%2==0:\n",
    "    print(num)\n",
    "    print(\"its an even number\")\n",
    "else:\n",
    "    print(num,\"its an odd number\")"
   ]
  },
  {
   "cell_type": "code",
   "execution_count": 19,
   "id": "0b61cec2-e3cc-4051-a807-3d2a07f56e8e",
   "metadata": {},
   "outputs": [
    {
     "ename": "SyntaxError",
     "evalue": "invalid syntax (1253527507.py, line 7)",
     "output_type": "error",
     "traceback": [
      "\u001b[1;36m  Cell \u001b[1;32mIn[19], line 7\u001b[1;36m\u001b[0m\n\u001b[1;33m    amount>1500:\u001b[0m\n\u001b[1;37m               ^\u001b[0m\n\u001b[1;31mSyntaxError\u001b[0m\u001b[1;31m:\u001b[0m invalid syntax\n"
     ]
    }
   ],
   "source": [
    "amount=int(input(\"enter the amount:\"))\n",
    "if amount>=5000:\n",
    "    print(\"you can buy 4 items\")\n",
    "    if amount<3000:\n",
    "        print(\"you can buy 3 items\")\n",
    "    else:\n",
    "        amount>1500:\n",
    "            print(\"you can buy only 1\")\n",
    "else:\n",
    "    if amount==0:\n",
    "        print(\"go back home\")"
   ]
  },
  {
   "cell_type": "code",
   "execution_count": 6,
   "id": "ea00e404-fab0-4c42-9958-6bc4bf66ba36",
   "metadata": {},
   "outputs": [
    {
     "name": "stdin",
     "output_type": "stream",
     "text": [
      "enter the value of a 6\n",
      "enter the value of b 8\n"
     ]
    },
    {
     "name": "stdout",
     "output_type": "stream",
     "text": [
      "8 is greater than  6\n"
     ]
    }
   ],
   "source": [
    "a=int(input(\"enter the value of a\"))\n",
    "b=int(input(\"enter the value of b\"))\n",
    "if a>b:\n",
    "    print(a,\"is greater than\",b)\n",
    "else:\n",
    "    print(b,\"is greater than \",a)"
   ]
  },
  {
   "cell_type": "code",
   "execution_count": 24,
   "id": "eef3bfab-e28d-4c6d-a55e-19319d1083bc",
   "metadata": {},
   "outputs": [
    {
     "name": "stdin",
     "output_type": "stream",
     "text": [
      "enter the marks 111\n"
     ]
    },
    {
     "name": "stdout",
     "output_type": "stream",
     "text": [
      "invalid choice\n"
     ]
    }
   ],
   "source": [
    "marks=int(input(\"enter the marks\"))\n",
    "if marks>=90 and marks<=100:\n",
    "    print(\"A+\")\n",
    "else:\n",
    "    if marks>=80 and marks<90:\n",
    "        print(\"A\")\n",
    "    else:\n",
    "        if marks>=70 and marks<80:\n",
    "            print(\"B+\") \n",
    "        else:\n",
    "            if marks>=60 and marks<70:\n",
    "                print(\"B\")\n",
    "            else:\n",
    "                if marks>=50 and marks<60:\n",
    "                     print(\"C+\")  \n",
    "                else:\n",
    "                    if marks>=40 and marks<50:\n",
    "                         print(\"C\")\n",
    "                    else:\n",
    "                        if marks>=30 and marks<40:\n",
    "                             print(\"D\")  \n",
    "                        else:\n",
    "                            if marks>=0 and marks<30:\n",
    "                                print(\"f\")\n",
    "                            else:\n",
    "                                if marks>100:\n",
    "                                    print(\"invalid choice\")\n",
    "                    "
   ]
  },
  {
   "cell_type": "code",
   "execution_count": 25,
   "id": "fa7de5aa-45a4-45f7-a36a-3c3e18a1546b",
   "metadata": {},
   "outputs": [
    {
     "name": "stdin",
     "output_type": "stream",
     "text": [
      "enter the marks 76\n"
     ]
    },
    {
     "name": "stdout",
     "output_type": "stream",
     "text": [
      "B+\n"
     ]
    }
   ],
   "source": [
    "marks=int(input(\"enter the marks\"))\n",
    "if marks>=90 and marks<=100:\n",
    "    print(\"A+\")\n",
    "elif marks>=80 and marks<90:\n",
    "    print(\"A\")\n",
    "elif marks>=70 and marks<80:\n",
    "    print(\"B+\") \n",
    "elif marks>=60 and marks<70:\n",
    "    print(\"B\")\n",
    "elif marks>=50 and marks<60:\n",
    "    print(\"C+\")  \n",
    "elif marks>=40 and marks<50:\n",
    "    print(\"C\")\n",
    "elif marks>=30 and marks<40:\n",
    "    print(\"D\")  \n",
    "elif marks>=0 and marks<30:\n",
    "    print(\"f\")\n",
    "else:\n",
    "    print(\"invalid choice\")\n",
    "                    "
   ]
  },
  {
   "cell_type": "code",
   "execution_count": 26,
   "id": "4f8d2815-c7ed-4e15-ab47-a397f054996d",
   "metadata": {},
   "outputs": [
    {
     "name": "stdout",
     "output_type": "stream",
     "text": [
      "1\n",
      "2\n",
      "3\n",
      "4\n",
      "5\n",
      "6\n",
      "7\n",
      "8\n",
      "9\n"
     ]
    }
   ],
   "source": [
    "for x in range(1,10):\n",
    "    print(x)"
   ]
  },
  {
   "cell_type": "code",
   "execution_count": 29,
   "id": "7a62d735-7794-452f-8b58-d22023935407",
   "metadata": {},
   "outputs": [
    {
     "name": "stdout",
     "output_type": "stream",
     "text": [
      "0   1\n",
      "0   2\n",
      "0   3\n",
      "0   4\n",
      "0   5\n",
      "0   6\n",
      "0   7\n",
      "0   8\n",
      "0   9\n",
      "1   1\n",
      "1   2\n",
      "1   3\n",
      "1   4\n",
      "1   5\n",
      "1   6\n",
      "1   7\n",
      "1   8\n",
      "1   9\n",
      "2   1\n",
      "2   2\n",
      "2   3\n",
      "2   4\n",
      "2   5\n",
      "2   6\n",
      "2   7\n",
      "2   8\n",
      "2   9\n",
      "3   1\n",
      "3   2\n",
      "3   3\n",
      "3   4\n",
      "3   5\n",
      "3   6\n",
      "3   7\n",
      "3   8\n",
      "3   9\n",
      "4   1\n",
      "4   2\n",
      "4   3\n",
      "4   4\n",
      "4   5\n",
      "4   6\n",
      "4   7\n",
      "4   8\n",
      "4   9\n",
      "5   1\n",
      "5   2\n",
      "5   3\n",
      "5   4\n",
      "5   5\n",
      "5   6\n",
      "5   7\n",
      "5   8\n",
      "5   9\n",
      "6   1\n",
      "6   2\n",
      "6   3\n",
      "6   4\n",
      "6   5\n",
      "6   6\n",
      "6   7\n",
      "6   8\n",
      "6   9\n",
      "7   1\n",
      "7   2\n",
      "7   3\n",
      "7   4\n",
      "7   5\n",
      "7   6\n",
      "7   7\n",
      "7   8\n",
      "7   9\n",
      "8   1\n",
      "8   2\n",
      "8   3\n",
      "8   4\n",
      "8   5\n",
      "8   6\n",
      "8   7\n",
      "8   8\n",
      "8   9\n",
      "9   1\n",
      "9   2\n",
      "9   3\n",
      "9   4\n",
      "9   5\n",
      "9   6\n",
      "9   7\n",
      "9   8\n",
      "9   9\n"
     ]
    }
   ],
   "source": [
    "for y in range(0,10):\n",
    "    for x in range(1,10):\n",
    "        print(y,\" \",x)"
   ]
  },
  {
   "cell_type": "code",
   "execution_count": 30,
   "id": "ab032b80-648c-41ae-9ce8-f258cb5f19ab",
   "metadata": {},
   "outputs": [
    {
     "name": "stdout",
     "output_type": "stream",
     "text": [
      "*\n",
      "**\n",
      "***\n",
      "****\n",
      "*****\n",
      "******\n",
      "*******\n",
      "********\n",
      "*********\n",
      "**********\n"
     ]
    }
   ],
   "source": [
    "for y in range(0,10):\n",
    "    for x in range(0,y+1):\n",
    "        print(\"*\",end=\"\")\n",
    "    print()\n",
    "    "
   ]
  },
  {
   "cell_type": "code",
   "execution_count": 18,
   "id": "dd104fbe-926e-4ba8-8650-6dc9fe327265",
   "metadata": {},
   "outputs": [
    {
     "name": "stdin",
     "output_type": "stream",
     "text": [
      "enter the length 10\n"
     ]
    },
    {
     "name": "stdout",
     "output_type": "stream",
     "text": [
      "0 1 1 2 3 5 8 13 21 34 "
     ]
    }
   ],
   "source": [
    "a=0\n",
    "b=1\n",
    "n=int(input(\"enter the length\"))\n",
    "print(a,b,end=\" \")\n",
    "for x in range(0,n-2):\n",
    "    c=a+b\n",
    "    print(c,end=\" \")\n",
    "    a=b\n",
    "    b=c\n",
    "\n"
   ]
  },
  {
   "cell_type": "code",
   "execution_count": null,
   "id": "2fdeb56c-b55d-4852-8a36-97e23aa94169",
   "metadata": {},
   "outputs": [],
   "source": []
  },
  {
   "cell_type": "code",
   "execution_count": null,
   "id": "464ead3a-913c-4698-8b7f-44b40899a817",
   "metadata": {},
   "outputs": [],
   "source": []
  }
 ],
 "metadata": {
  "kernelspec": {
   "display_name": "Python 3 (ipykernel)",
   "language": "python",
   "name": "python3"
  },
  "language_info": {
   "codemirror_mode": {
    "name": "ipython",
    "version": 3
   },
   "file_extension": ".py",
   "mimetype": "text/x-python",
   "name": "python",
   "nbconvert_exporter": "python",
   "pygments_lexer": "ipython3",
   "version": "3.12.3"
  }
 },
 "nbformat": 4,
 "nbformat_minor": 5
}
