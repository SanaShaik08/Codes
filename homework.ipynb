{
 "cells": [
  {
   "cell_type": "code",
   "execution_count": 4,
   "id": "94698d7c-a9c0-4647-aa28-d30eadac8645",
   "metadata": {},
   "outputs": [
    {
     "name": "stdin",
     "output_type": "stream",
     "text": [
      "Enter a number:  67\n"
     ]
    },
    {
     "name": "stdout",
     "output_type": "stream",
     "text": [
      "Reversed number: 76\n"
     ]
    }
   ],
   "source": [
    "def reverse_digits(number):\n",
    "    if number < 0:\n",
    "        return int(str(number)[0] + str(number)[:0:-1])\n",
    "    else:\n",
    "        return int(str(number)[::-1])\n",
    "\n",
    "number = int(input(\"Enter a number: \"))\n",
    "print(\"Reversed number:\", reverse_digits(number))"
   ]
  },
  {
   "cell_type": "code",
   "execution_count": null,
   "id": "2debe933-9c88-4274-a8f3-3fab9cd38921",
   "metadata": {},
   "outputs": [
    {
     "name": "stdout",
     "output_type": "stream",
     "text": [
      "Welcome to the Arithmetic Operations Program\n",
      "\n",
      "Menu:\n",
      "1. Addition\n",
      "2. Subtraction\n",
      "3. Multiplication\n",
      "4. Division\n",
      "5. Modulus\n",
      "6. Power\n",
      "7. Exit\n"
     ]
    },
    {
     "name": "stdin",
     "output_type": "stream",
     "text": [
      "Enter your choice (1-7):  2\n",
      "Enter first number:  8\n",
      "Enter second number:  4\n"
     ]
    },
    {
     "name": "stdout",
     "output_type": "stream",
     "text": [
      "Result: 4.0\n",
      "\n",
      "Menu:\n",
      "1. Addition\n",
      "2. Subtraction\n",
      "3. Multiplication\n",
      "4. Division\n",
      "5. Modulus\n",
      "6. Power\n",
      "7. Exit\n"
     ]
    }
   ],
   "source": [
    "\n",
    "def add(x, y):\n",
    "    return x + y\n",
    "\n",
    "def subtract(x, y):\n",
    "    return x - y\n",
    "\n",
    "def multiply(x, y):\n",
    "    return x * y\n",
    "\n",
    "def divide(x, y):\n",
    "    if y == 0:\n",
    "        return \"Cannot divide by zero\"\n",
    "    return x / y\n",
    "\n",
    "def modulus(x, y):\n",
    "    if y == 0:\n",
    "        return \"Cannot compute modulus with zero divisor\"\n",
    "    return x % y\n",
    "\n",
    "def power(x, y):\n",
    "    return x ** y\n",
    "\n",
    "print(\"Welcome to the Arithmetic Operations Program\")\n",
    "\n",
    "while True:\n",
    "    print(\"\\nMenu:\")\n",
    "    print(\"1. Addition\")\n",
    "    print(\"2. Subtraction\")\n",
    "    print(\"3. Multiplication\")\n",
    "    print(\"4. Division\")\n",
    "    print(\"5. Modulus\")\n",
    "    print(\"6. Power\")\n",
    "    print(\"7. Exit\")\n",
    "\n",
    "    choice = input(\"Enter your choice (1-7): \")\n",
    "\n",
    "    if choice in ('1', '2', '3', '4', '5', '6'):\n",
    "        num1 = float(input(\"Enter first number: \"))\n",
    "        num2 = float(input(\"Enter second number: \"))\n",
    "\n",
    "        if choice == '1':\n",
    "            print(\"Result:\", add(num1, num2))\n",
    "        elif choice == '2':\n",
    "            print(\"Result:\", subtract(num1, num2))\n",
    "        elif choice == '3':\n",
    "            print(\"Result:\", multiply(num1, num2))\n",
    "        elif choice == '4':\n",
    "            print(\"Result:\", divide(num1, num2))\n",
    "        elif choice == '5':\n",
    "            print(\"Result:\", modulus(num1, num2))\n",
    "        elif choice == '6':\n",
    "            print(\"Result:\", power(num1, num2))\n",
    "    elif choice == '7':\n",
    "        print(\"Exiting program. Goodbye!\")\n",
    "        break\n",
    "    else:\n",
    "        print(\"Invalid input. Please enter a number from 1 to 7.\")\n",
    "\n",
    "\n",
    "\n"
   ]
  },
  {
   "cell_type": "code",
   "execution_count": 5,
   "id": "01e7d759-33cd-4c63-b363-b6fd3567583d",
   "metadata": {},
   "outputs": [
    {
     "name": "stdin",
     "output_type": "stream",
     "text": [
      "Enter a number:  7\n"
     ]
    },
    {
     "name": "stdout",
     "output_type": "stream",
     "text": [
      "Prime\n"
     ]
    }
   ],
   "source": [
    "def is_prime(n):\n",
    "    if n <= 1:\n",
    "        return False\n",
    "    for i in range(2, int(n**0.5) + 1):\n",
    "        if n % i == 0:\n",
    "            return False\n",
    "    return True\n",
    "\n",
    "number = int(input(\"Enter a number: \"))\n",
    "if is_prime(number):\n",
    "    print(\"Prime\")\n",
    "else:\n",
    "    print(\"Not prime\")"
   ]
  },
  {
   "cell_type": "code",
   "execution_count": 7,
   "id": "408a7cac-1410-45fa-8cd1-069125fe22fb",
   "metadata": {},
   "outputs": [
    {
     "name": "stdin",
     "output_type": "stream",
     "text": [
      "Enter a number:  2\n"
     ]
    },
    {
     "name": "stdout",
     "output_type": "stream",
     "text": [
      "Factorial: 2\n"
     ]
    }
   ],
   "source": [
    "def factorial(n):\n",
    "    if n == 0:\n",
    "        return 1\n",
    "    else:\n",
    "        return n * factorial(n - 1)\n",
    "\n",
    "number = int(input(\"Enter a number: \"))\n",
    "print(\"Factorial:\", factorial(number))"
   ]
  },
  {
   "cell_type": "code",
   "execution_count": 13,
   "id": "f4c3fad8-b3fb-4da4-bc51-eaffe9cfdea1",
   "metadata": {},
   "outputs": [
    {
     "name": "stdin",
     "output_type": "stream",
     "text": [
      "Enter a string:  ngdsjgk\n"
     ]
    },
    {
     "name": "stdout",
     "output_type": "stream",
     "text": [
      "Not a palindrome\n"
     ]
    }
   ],
   "source": [
    "def is_palindrome(s):\n",
    "    s = s.lower()\n",
    "    return s == s[::-1]\n",
    "\n",
    "string = input(\"Enter a string: \")\n",
    "if is_palindrome(string):\n",
    "    print(\"Palindrome\")\n",
    "else:\n",
    "    print(\"Not a palindrome\")"
   ]
  },
  {
   "cell_type": "code",
   "execution_count": 14,
   "id": "963fec00-edfe-42ec-bc5b-c7c0ae44585c",
   "metadata": {},
   "outputs": [
    {
     "name": "stdin",
     "output_type": "stream",
     "text": [
      "Enter a character:  f\n"
     ]
    },
    {
     "name": "stdout",
     "output_type": "stream",
     "text": [
      "Lower case character\n"
     ]
    }
   ],
   "source": [
    "def identify_character(char):\n",
    "    if char.islower():\n",
    "        print(\"Lower case character\")\n",
    "    elif char.isupper():\n",
    "        print (\"Upper case character\")\n",
    "    elif char.isdigit():\n",
    "        print (\"Numeric character\")\n",
    "    else:\n",
    "        print (\"Special character\")\n",
    "\n",
    "char = input(\"Enter a character: \")\n",
    "print(identify_character(char))"
   ]
  },
  {
   "cell_type": "code",
   "execution_count": 10,
   "id": "a317fcf2-7c24-40c5-8f59-89269c9b58b6",
   "metadata": {},
   "outputs": [
    {
     "name": "stdout",
     "output_type": "stream",
     "text": [
      "Average grade: 86.0\n"
     ]
    }
   ],
   "source": [
    "def calculate_average_grade(g):\n",
    "    try:\n",
    "        total_grade = sum(g.values())\n",
    "        num_students = len(g)\n",
    "        average_grade = total_grade / num_students\n",
    "        return average_grade\n",
    "    except ZeroDivisionError:\n",
    "        print(\"The dictionary is empty. Cannot calculate average grade.\")\n",
    "        return None\n",
    "g = {'sana': 85, 'zoya': 90, 'sarah': 75,'rumana':94}\n",
    "average = calculate_average_grade(g)\n",
    "if average is not None:\n",
    "    print(\"Average grade:\", average)"
   ]
  },
  {
   "cell_type": "code",
   "execution_count": 11,
   "id": "415f0abf-bc79-4a71-a28e-83b323617d04",
   "metadata": {},
   "outputs": [
    {
     "name": "stdout",
     "output_type": "stream",
     "text": [
      "The dictionary is empty. Cannot calculate average grade.\n"
     ]
    }
   ],
   "source": [
    "def calculate_average_grade(g):\n",
    "    try:\n",
    "        total_grade = sum(g.values())\n",
    "        num_students = len(g)\n",
    "        average_grade = total_grade / num_students\n",
    "        return average_grade\n",
    "    except ZeroDivisionError:\n",
    "        print(\"The dictionary is empty. Cannot calculate average grade.\")\n",
    "        return None\n",
    "g = {}\n",
    "average = calculate_average_grade(g)\n",
    "if average is not None:\n",
    "    print(\"Average grade:\", average)"
   ]
  },
  {
   "cell_type": "code",
   "execution_count": 21,
   "id": "3f7b230f-2649-4502-8b2a-0c8cd117c394",
   "metadata": {},
   "outputs": [
    {
     "name": "stdout",
     "output_type": "stream",
     "text": [
      "Ignoring non-numeric value sana\n",
      "Sum of numeric elements in the list: 16.5\n"
     ]
    }
   ],
   "source": [
    "def sum_list(a):\n",
    "    total = 0\n",
    "    for item in a:\n",
    "        try:\n",
    "            total += float(item)\n",
    "        except ValueError:\n",
    "            print(\"Ignoring non-numeric value\",item)\n",
    "    return total\n",
    "a = [1, 2, 3, '4', 'sana', 6.5]\n",
    "print(\"Sum of numeric elements in the list:\", sum_list(a))"
   ]
  },
  {
   "cell_type": "code",
   "execution_count": null,
   "id": "25a3ab43-bd75-43d6-abc8-8dd72a20cb30",
   "metadata": {},
   "outputs": [],
   "source": [
    "a=input()\n",
    "flag=0\n",
    "for i in range (0,int(len(a)/2)):\n",
    "    if a[i]!= a[a(i+1)*-1]:\n",
    "        flag =1\n",
    "        break\n",
    "if flag:\n",
    "    print(\"not palindrome\")\n",
    "else:\n",
    "    print(\"palindrime\")"
   ]
  },
  {
   "cell_type": "code",
   "execution_count": 15,
   "id": "b46f2239-d6e3-4769-baa4-fe116de92cf1",
   "metadata": {},
   "outputs": [
    {
     "name": "stdin",
     "output_type": "stream",
     "text": [
      "enter the number 9\n"
     ]
    },
    {
     "name": "stdout",
     "output_type": "stream",
     "text": [
      "is not a prime number\n"
     ]
    }
   ],
   "source": [
    "a=int(input(\"enter the number\"))\n",
    "for x in range(2,int(a/2)):\n",
    "    if a%x==0:\n",
    "        print(\"is not a prime number\")\n",
    "        break\n",
    "else:\n",
    "    print(\" prime \")\n",
    "        "
   ]
  },
  {
   "cell_type": "code",
   "execution_count": null,
   "id": "6eb7f677-61a3-4f4d-a044-c30b9a8f45e9",
   "metadata": {},
   "outputs": [],
   "source": []
  }
 ],
 "metadata": {
  "kernelspec": {
   "display_name": "Python 3 (ipykernel)",
   "language": "python",
   "name": "python3"
  },
  "language_info": {
   "codemirror_mode": {
    "name": "ipython",
    "version": 3
   },
   "file_extension": ".py",
   "mimetype": "text/x-python",
   "name": "python",
   "nbconvert_exporter": "python",
   "pygments_lexer": "ipython3",
   "version": "3.12.3"
  }
 },
 "nbformat": 4,
 "nbformat_minor": 5
}
