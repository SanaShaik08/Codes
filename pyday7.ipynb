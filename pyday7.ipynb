{
 "cells": [
  {
   "cell_type": "code",
   "execution_count": 31,
   "id": "df3b0750-025d-42ec-b38d-3b4ac86d7a9b",
   "metadata": {},
   "outputs": [
    {
     "name": "stdout",
     "output_type": "stream",
     "text": [
      "10\n",
      "38\n",
      "92\n",
      "96\n",
      "114\n",
      "184\n",
      "212\n",
      "266\n",
      "374\n",
      "392\n",
      "446\n",
      "534\n",
      "552\n",
      "606\n",
      "634\n",
      "638\n",
      "656\n",
      "764\n",
      "818\n"
     ]
    }
   ],
   "source": [
    "L=[2,4,6,1,3,7,4,6,9,3,6,8,3,6,4,1,3,9,6]\n",
    "sum=0\n",
    "for i in L:\n",
    "    for j in range(0,i+3):\n",
    "        sum+=i\n",
    "    print(sum)"
   ]
  },
  {
   "cell_type": "code",
   "execution_count": 32,
   "id": "6b2aac96-4dfd-4147-90fd-135274e33fca",
   "metadata": {},
   "outputs": [
    {
     "name": "stdout",
     "output_type": "stream",
     "text": [
      "19\n"
     ]
    }
   ],
   "source": [
    "L=[2,4,6,1,3,7,4,6,9,3,6,8,3,6,4,1,3,9,6]\n",
    "max=0\n",
    "for x in range(0,len(L)-2):\n",
    "    sum=L[x]+L[x+1]+L[x+2]\n",
    "    if(max<sum):\n",
    "        max=sum\n",
    "print(max)"
   ]
  },
  {
   "cell_type": "code",
   "execution_count": 50,
   "id": "f71b876a-7fff-4683-a7bc-c4206c97983f",
   "metadata": {},
   "outputs": [
    {
     "name": "stdin",
     "output_type": "stream",
     "text": [
      " 3\n"
     ]
    },
    {
     "name": "stdout",
     "output_type": "stream",
     "text": [
      "19\n"
     ]
    }
   ],
   "source": [
    "L=[2,4,6,1,3,7,4,6,9,3,6,8,3,6,4,1,3,9,6]\n",
    "max=0\n",
    "\n",
    "n=int(input())\n",
    "for x in range(0,len(L)-n):\n",
    "    sum=0\n",
    "    for i in range(0,n):\n",
    "        sum=sum+L[x+i]\n",
    "        if(max<sum):\n",
    "            max=sum\n",
    "print(max)\n"
   ]
  },
  {
   "cell_type": "code",
   "execution_count": 52,
   "id": "f5a3b514-33c6-450d-a756-d0e2fd83d080",
   "metadata": {},
   "outputs": [
    {
     "name": "stdin",
     "output_type": "stream",
     "text": [
      " 3\n"
     ]
    },
    {
     "name": "stdout",
     "output_type": "stream",
     "text": [
      "9\n"
     ]
    }
   ],
   "source": [
    "L=[2,4,6,1,3,7,4,6,9,3,6,8,3,6,4,1,3,9,6]\n",
    "max=0\n",
    "n=int(input())\n",
    "for x in range(0,len(L)-n):\n",
    "    sum=0\n",
    "    sum=sum+L[x+i]\n",
    "if(max<sum):\n",
    "    max=sum\n",
    "print(max)\n"
   ]
  },
  {
   "cell_type": "code",
   "execution_count": 9,
   "id": "2cd977e9-36db-4cfd-9ee9-8f01174b8f12",
   "metadata": {},
   "outputs": [
    {
     "name": "stdout",
     "output_type": "stream",
     "text": [
      "[3, 5, 6, 7, 7, 8, 9]\n"
     ]
    }
   ],
   "source": [
    "l=[3,5,7,6,7,8,9]\n",
    "l.sort()\n",
    "print(l)\n"
   ]
  },
  {
   "cell_type": "code",
   "execution_count": 17,
   "id": "83713e9c-4666-4b38-ad91-559fa5502e49",
   "metadata": {},
   "outputs": [
    {
     "name": "stdout",
     "output_type": "stream",
     "text": [
      "[3, 5, 6, 7, 7, 8, 9]\n"
     ]
    }
   ],
   "source": [
    "l=[3,5,7,6,7,8,9]\n",
    "for i in range(0,len(l)):\n",
    "    for j in range(0,len(l)):\n",
    "        if l[i]<=l[j]:\n",
    "            l[i],l[j]=l[j],l[i]\n",
    "print(l) "
   ]
  },
  {
   "cell_type": "code",
   "execution_count": null,
   "id": "f14b31ff-fc21-43e0-8a96-be38008d8c1f",
   "metadata": {},
   "outputs": [],
   "source": []
  },
  {
   "cell_type": "code",
   "execution_count": null,
   "id": "45d6920d-a9ff-4083-91b0-1654ff3d9c55",
   "metadata": {},
   "outputs": [],
   "source": []
  }
 ],
 "metadata": {
  "kernelspec": {
   "display_name": "Python 3 (ipykernel)",
   "language": "python",
   "name": "python3"
  },
  "language_info": {
   "codemirror_mode": {
    "name": "ipython",
    "version": 3
   },
   "file_extension": ".py",
   "mimetype": "text/x-python",
   "name": "python",
   "nbconvert_exporter": "python",
   "pygments_lexer": "ipython3",
   "version": "3.12.3"
  }
 },
 "nbformat": 4,
 "nbformat_minor": 5
}
