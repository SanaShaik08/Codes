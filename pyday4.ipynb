{
 "cells": [
  {
   "cell_type": "markdown",
   "id": "f5970d76-7c0c-40c4-9add-48397a36a2cb",
   "metadata": {},
   "source": [
    "file handling\n",
    "\n",
    "create\n",
    "read\n",
    "update\n",
    "delete\n",
    "\n",
    "this is termed as CRUD OPERATIONS"
   ]
  },
  {
   "cell_type": "code",
   "execution_count": 6,
   "id": "be04f0d3-2b84-4afd-89ae-c559c3f27250",
   "metadata": {},
   "outputs": [
    {
     "ename": "NameError",
     "evalue": "name 'create_file' is not defined",
     "output_type": "error",
     "traceback": [
      "\u001b[1;31m---------------------------------------------------------------------------\u001b[0m",
      "\u001b[1;31mNameError\u001b[0m                                 Traceback (most recent call last)",
      "Cell \u001b[1;32mIn[6], line 6\u001b[0m\n\u001b[0;32m      3\u001b[0m     filename \u001b[38;5;241m=\u001b[39m \u001b[38;5;124m\"\u001b[39m\u001b[38;5;124mexample.txt\u001b[39m\u001b[38;5;124m\"\u001b[39m\n\u001b[0;32m      4\u001b[0m     new_filename \u001b[38;5;241m=\u001b[39m \u001b[38;5;124m\"\u001b[39m\u001b[38;5;124mnew_example.txt\u001b[39m\u001b[38;5;124m\"\u001b[39m\n\u001b[1;32m----> 6\u001b[0m \u001b[43mcreate_file\u001b[49m(filename)\n\u001b[0;32m      7\u001b[0m read_file(filename)\n\u001b[0;32m      8\u001b[0m append_file(filename, \u001b[38;5;124m\"\u001b[39m\u001b[38;5;124mthis is some additional text.\u001b[39m\u001b[38;5;130;01m\\n\u001b[39;00m\u001b[38;5;124m\"\u001b[39m)\n",
      "\u001b[1;31mNameError\u001b[0m: name 'create_file' is not defined"
     ]
    }
   ],
   "source": [
    "import os\n",
    "if __name__ =='__main__':\n",
    "    filename = \"example.txt\"\n",
    "    new_filename = \"new_example.txt\"\n",
    "\n",
    "create_file(filename)\n",
    "read_file(filename)\n",
    "append_file(filename, \"this is some additional text.\\n\")\n",
    "read_file(filename)\n",
    "rename_file(filename,new_filename)\n",
    "read_file(new_filename)\n",
    "delete_file(new_filename)"
   ]
  },
  {
   "cell_type": "code",
   "execution_count": 4,
   "id": "28e76286-854d-485d-8a4c-996013f584a6",
   "metadata": {},
   "outputs": [],
   "source": [
    "import os\n",
    "with open(\"ana.txt\",'w') as f:\n",
    "    f.write(\"this the 1st text \\n\")"
   ]
  },
  {
   "cell_type": "code",
   "execution_count": 5,
   "id": "cd15ad23-6c74-4dd7-b64c-b401520b2b99",
   "metadata": {},
   "outputs": [],
   "source": [
    "import os\n",
    "with open(\"ana.txt\",'a') as f:\n",
    "    f.write(\"this is the 2nd text\")\n"
   ]
  },
  {
   "cell_type": "code",
   "execution_count": 6,
   "id": "cc586297-49d3-459f-8783-659134d4d816",
   "metadata": {},
   "outputs": [
    {
     "name": "stdout",
     "output_type": "stream",
     "text": [
      "['this the 1st text ', 'this is the 2nd text']\n"
     ]
    }
   ],
   "source": [
    "import os\n",
    "with open(\"ana.txt\",'r') as f:\n",
    "    a= f.read().split(\"\\n\")\n",
    "    print(a)\n",
    "    f.close"
   ]
  },
  {
   "cell_type": "code",
   "execution_count": 7,
   "id": "f71a8784-5cb4-48bd-a1f1-a6be0cc3a2ec",
   "metadata": {},
   "outputs": [
    {
     "ename": "FileExistsError",
     "evalue": "[WinError 183] Cannot create a file when that file already exists: 'ana.txt' -> 'sana.txt'",
     "output_type": "error",
     "traceback": [
      "\u001b[1;31m---------------------------------------------------------------------------\u001b[0m",
      "\u001b[1;31mFileExistsError\u001b[0m                           Traceback (most recent call last)",
      "Cell \u001b[1;32mIn[7], line 3\u001b[0m\n\u001b[0;32m      1\u001b[0m \u001b[38;5;28;01mimport\u001b[39;00m \u001b[38;5;21;01mos\u001b[39;00m\n\u001b[1;32m----> 3\u001b[0m \u001b[43mos\u001b[49m\u001b[38;5;241;43m.\u001b[39;49m\u001b[43mrename\u001b[49m\u001b[43m(\u001b[49m\u001b[38;5;124;43m\"\u001b[39;49m\u001b[38;5;124;43mana.txt\u001b[39;49m\u001b[38;5;124;43m\"\u001b[39;49m\u001b[43m,\u001b[49m\u001b[38;5;124;43m\"\u001b[39;49m\u001b[38;5;124;43msana.txt\u001b[39;49m\u001b[38;5;124;43m\"\u001b[39;49m\u001b[43m)\u001b[49m\n\u001b[0;32m      4\u001b[0m f\u001b[38;5;241m.\u001b[39mclose()\n",
      "\u001b[1;31mFileExistsError\u001b[0m: [WinError 183] Cannot create a file when that file already exists: 'ana.txt' -> 'sana.txt'"
     ]
    }
   ],
   "source": [
    "\n",
    "import os\n",
    "\n",
    "os.rename(\"ana.txt\",\"sana.txt\")\n",
    "f.close()"
   ]
  },
  {
   "cell_type": "code",
   "execution_count": 11,
   "id": "c4901844-daad-4b35-938f-969368e06b97",
   "metadata": {},
   "outputs": [
    {
     "name": "stdin",
     "output_type": "stream",
     "text": [
      "enter temperature 0\n"
     ]
    },
    {
     "name": "stdout",
     "output_type": "stream",
     "text": [
      "temperature in Celsius to Fahrenheit. 0 -> 32.0\n"
     ]
    }
   ],
   "source": [
    "temperature=int(input(\"enter temperature\"))\n",
    "f=temperature*(9/5)+32\n",
    "print(\"temperature in Celsius to Fahrenheit.\",temperature,\"->\",f)"
   ]
  },
  {
   "cell_type": "code",
   "execution_count": 15,
   "id": "a4d1d6ea-6749-4499-b4df-317f904b5b3e",
   "metadata": {},
   "outputs": [
    {
     "name": "stdin",
     "output_type": "stream",
     "text": [
      " apple\n",
      " banana\n",
      " mango\n"
     ]
    }
   ],
   "source": [
    "import os\n",
    "with open(\"fruitsnam.txt\",'w')as f:\n",
    "    f.write(input()+'\\n')\n",
    "    f.write(input()+'\\n')\n",
    "    f.write(input()+'\\n')\n",
    "    f.close()\n",
    "\n"
   ]
  },
  {
   "cell_type": "code",
   "execution_count": 16,
   "id": "fdb47366-b14c-4922-aa03-93043cc4e3d1",
   "metadata": {},
   "outputs": [
    {
     "name": "stdout",
     "output_type": "stream",
     "text": [
      "apple\n",
      "banana\n",
      "mango\n",
      "\n"
     ]
    }
   ],
   "source": [
    "import os\n",
    "with open(\"fruitsnam.txt\",'r') as f:\n",
    "    a= f.read()\n",
    "    print(a)\n",
    "    f.close"
   ]
  },
  {
   "cell_type": "code",
   "execution_count": null,
   "id": "4dad94fd-4d0f-4a83-9a77-bc80c12deadc",
   "metadata": {},
   "outputs": [],
   "source": []
  },
  {
   "cell_type": "code",
   "execution_count": 26,
   "id": "5f7637db-69b8-4db3-92c9-02c7325bba54",
   "metadata": {},
   "outputs": [
    {
     "name": "stdin",
     "output_type": "stream",
     "text": [
      " apple\n",
      " grapes\n"
     ]
    }
   ],
   "source": [
    "import os\n",
    "with open(\"fruitsnam.txt\",'r') as f:\n",
    "    a= f.read()\n",
    "    c=input()\n",
    "    d=input()\n",
    "    b=a.replace(c,d)\n",
    "    with open(\"fruitsnam.txt\",'w')as f:\n",
    "        f.write(b)\n",
    "\n",
    "    \n",
    "    \n"
   ]
  },
  {
   "cell_type": "code",
   "execution_count": null,
   "id": "d7ee1cbb-d8e9-4223-8e23-0e40771e99fb",
   "metadata": {},
   "outputs": [],
   "source": []
  },
  {
   "cell_type": "code",
   "execution_count": null,
   "id": "67abf264-2af7-4946-ac8d-7f9903036b48",
   "metadata": {},
   "outputs": [],
   "source": []
  }
 ],
 "metadata": {
  "kernelspec": {
   "display_name": "Python 3 (ipykernel)",
   "language": "python",
   "name": "python3"
  },
  "language_info": {
   "codemirror_mode": {
    "name": "ipython",
    "version": 3
   },
   "file_extension": ".py",
   "mimetype": "text/x-python",
   "name": "python",
   "nbconvert_exporter": "python",
   "pygments_lexer": "ipython3",
   "version": "3.12.3"
  }
 },
 "nbformat": 4,
 "nbformat_minor": 5
}
