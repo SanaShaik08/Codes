{
 "cells": [
  {
   "cell_type": "code",
   "execution_count": 12,
   "id": "4237c5dc-4ba1-403a-af02-337027c8dace",
   "metadata": {},
   "outputs": [
    {
     "name": "stdout",
     "output_type": "stream",
     "text": [
      "s\n",
      "67\n",
      "f\n",
      "g\n",
      "h\n"
     ]
    }
   ],
   "source": [
    "a=[\"s\",67,\"f\",\"g\",\"h\",\"j\",\"k\"]\n",
    "for x in range(0,5):\n",
    "    print(a[x])"
   ]
  },
  {
   "cell_type": "markdown",
   "id": "f7c49f8f-fab5-4d58-807a-2e5e5ac1bbf2",
   "metadata": {},
   "source": [
    "pop to pull out element of the list is queue fashion/here index of the value is given\n",
    "sort use to sort the list/the list in ascending order and return none.\n",
    "copy is used to copy\n",
    "append is used to add element at the end\n",
    "extend is used to adding elements and extending the the list\n",
    "index returns the first index of value\n",
    "count is used to count the number of elements in the list/number of occurance of value/counts of duplicates\n",
    "insert -insert obeject before index\n",
    "remove removes the first ocurrence of value/here direct value is used\n",
    "len(list) gives the length of the list"
   ]
  },
  {
   "cell_type": "code",
   "execution_count": 16,
   "id": "5f343abb-8191-462b-b0d3-ebc16a21f900",
   "metadata": {},
   "outputs": [
    {
     "name": "stdout",
     "output_type": "stream",
     "text": [
      "[1, 2, 3, 4, 5]\n",
      "4\n",
      "[1, 2, 3, 5]\n",
      "[1, 2, 3, 5, 10, 3, 7]\n",
      "2\n",
      "2\n",
      "2\n",
      "[1, 2, 3, 5, 9, 10, 3, 7]\n",
      "[1, 2, 5, 9, 10, 3, 7]\n",
      "[1, 2, 3, 5, 7, 9, 10]\n",
      "[10, 9, 7, 5, 3, 2, 1]\n",
      "7\n",
      "[10, 9, 7, 5, 3, 2, 1, 1, 2, 3, 4, 5]\n"
     ]
    }
   ],
   "source": [
    "a=[1,2,3,4,5]\n",
    "b=a.copy()\n",
    "print(b)\n",
    "c=b.pop(3)\n",
    "print(c)\n",
    "print(b)\n",
    "b.append(10)\n",
    "b.append(3)\n",
    "b.append(7)\n",
    "print(b)\n",
    "print(b.index(3))\n",
    "print(b.count(3))\n",
    "print(b.count(3))\n",
    "b.insert(4,9)\n",
    "print(b)\n",
    "b.remove(3)\n",
    "print(b)\n",
    "b.sort()\n",
    "print(b)\n",
    "b.sort(reverse=True)\n",
    "print(b)\n",
    "print(len(b))\n",
    "b.extend(a)\n",
    "print(b)"
   ]
  },
  {
   "cell_type": "code",
   "execution_count": 17,
   "id": "c7025eb9-a51b-4826-b4cd-357fecfe9818",
   "metadata": {},
   "outputs": [
    {
     "name": "stdout",
     "output_type": "stream",
     "text": [
      "10\n",
      "7\n",
      "9\n",
      "7\n",
      "8\n",
      "4\n",
      "9\n",
      "2\n",
      "0\n",
      "7\n",
      "2\n"
     ]
    }
   ],
   "source": [
    "a=[10,7,9,7,8,4,9,2,0,7,2]\n",
    "for x in a:\n",
    "    print(x)"
   ]
  },
  {
   "cell_type": "code",
   "execution_count": 18,
   "id": "09947044-62bb-4277-bffa-c8da6b3bc961",
   "metadata": {},
   "outputs": [
    {
     "name": "stdin",
     "output_type": "stream",
     "text": [
      "enter the size of list 5\n",
      " 1\n",
      " 2\n",
      " \n",
      " 3\n",
      " 4\n"
     ]
    },
    {
     "name": "stdout",
     "output_type": "stream",
     "text": [
      "['1', '2', '', '3', '4']\n"
     ]
    }
   ],
   "source": [
    "n=int(input(\"enter the size of list\"))\n",
    "a=[]\n",
    "for x in range(0,n):\n",
    "    x=input()\n",
    "    a.append(x)\n",
    "print(a)"
   ]
  },
  {
   "cell_type": "code",
   "execution_count": 23,
   "id": "96c07597-0836-429e-a862-e9dd62c52bfa",
   "metadata": {},
   "outputs": [
    {
     "name": "stdin",
     "output_type": "stream",
     "text": [
      "enter thr elements of the list: 5 6 7 8 9 0\n"
     ]
    },
    {
     "name": "stdout",
     "output_type": "stream",
     "text": [
      "[5, 6, 7, 8, 9, 0]\n"
     ]
    }
   ],
   "source": [
    "L=[int(item) for item in(input(\"enter thr elements of the list:\").split())]\n",
    "print(L)"
   ]
  },
  {
   "cell_type": "code",
   "execution_count": 24,
   "id": "015d71ce-a36d-4251-9da4-38330997bdca",
   "metadata": {},
   "outputs": [
    {
     "name": "stdout",
     "output_type": "stream",
     "text": [
      "(1, 2, 3, 4, 5, 6, 'sana')\n",
      "[1, 2, 3, 4, 5, 6, 'sana']\n",
      "(1, 2, 3, 4, 5, 'ana', 'sana')\n"
     ]
    }
   ],
   "source": [
    "#tuples\n",
    "a=(1,2,3,4,5,6,\"sana\")\n",
    "print(a)\n",
    "#we cannot update or append a tuple\n",
    "#tuple into a list this can be used for updating a tuple\n",
    "b=list(a)\n",
    "print(b)\n",
    "b[5]=\"ana\"\n",
    "a=tuple(b)\n",
    "print(a)"
   ]
  },
  {
   "cell_type": "code",
   "execution_count": 6,
   "id": "27e08905-9cd5-427e-a5b1-d471a8e74364",
   "metadata": {},
   "outputs": [
    {
     "name": "stdout",
     "output_type": "stream",
     "text": [
      "5\n",
      "4\n",
      "3\n",
      "2\n",
      "1\n"
     ]
    }
   ],
   "source": [
    "#reversinng of a list without using any function\n",
    "a=[1,2,3,4,5]\n",
    "for x in range(-1,-1*(len(a)+1),-1):\n",
    "    print(a[x])"
   ]
  },
  {
   "cell_type": "code",
   "execution_count": 8,
   "id": "acf260e3-7913-405e-aee6-4a06b5488d59",
   "metadata": {},
   "outputs": [
    {
     "name": "stdout",
     "output_type": "stream",
     "text": [
      "5\n",
      "4\n",
      "3\n",
      "2\n",
      "1\n"
     ]
    }
   ],
   "source": [
    "a=[1,2,3,4,5]\n",
    "for x in range(0,len(a)):\n",
    "    print(a[-1*(x+1)])"
   ]
  },
  {
   "cell_type": "code",
   "execution_count": 16,
   "id": "b3e10a24-a602-440a-ad0c-2a4a2a3afa1e",
   "metadata": {},
   "outputs": [
    {
     "name": "stdout",
     "output_type": "stream",
     "text": [
      "{1: 'sana', 2: 'shaik'}\n",
      "{1: 'sana', 2: 'ana', 3: 'nisa'}\n",
      "ana\n",
      "dict_keys([1, 2, 3])\n",
      "dict_values(['sana', 'ana', 'nisa'])\n",
      "dict_items([(1, 'sana'), (2, 'ana'), (3, 'nisa')])\n",
      "ana\n",
      "None\n"
     ]
    }
   ],
   "source": [
    "#dictionary is key and values\n",
    "#key value pair\n",
    "d={1:\"sana\",2:\"shaik\"}\n",
    "print(d)\n",
    "e={1:\"sana\",2:\"shaik\",3:\"nisa\",2:\"ana\"}\n",
    "print(e)\n",
    "print(e[2])\n",
    "print(e.keys())\n",
    "print(e.values())\n",
    "print(e.items())\n",
    "print(e.get(2))\n",
    "print(e.get(4))\n"
   ]
  },
  {
   "cell_type": "markdown",
   "id": "53da605d-8b2d-428c-a9af-e3fa96547114",
   "metadata": {},
   "source": [
    "copy\n",
    "key provide the key\n",
    "value provide the value\n",
    "item provide the item\n",
    "get\n",
    "write a program to take key and value as input from the user and add it into the dictionary if key is not present in dictionary other wise print key already exists and also print its exact value."
   ]
  },
  {
   "cell_type": "code",
   "execution_count": 14,
   "id": "deb6d305-0012-414d-8ba2-18aa58b94d61",
   "metadata": {},
   "outputs": [
    {
     "name": "stdin",
     "output_type": "stream",
     "text": [
      "enter the key 3\n",
      "enter the value sfdg\n"
     ]
    }
   ],
   "source": [
    "\n",
    "key=int(input(\"enter the key\"))\n",
    "value=input(\"enter the value\")\n"
   ]
  },
  {
   "cell_type": "code",
   "execution_count": 6,
   "id": "6368cfeb-17ce-428b-8f05-d0470b5fdf32",
   "metadata": {},
   "outputs": [
    {
     "name": "stdin",
     "output_type": "stream",
     "text": [
      "enter the index number: 11\n"
     ]
    },
    {
     "name": "stdout",
     "output_type": "stream",
     "text": [
      "index out of bond error \n",
      "error handelled\n",
      "we have recevide the index value 11\n"
     ]
    }
   ],
   "source": [
    "a=[1,2,3,4,5,6,7,8,9,11]\n",
    "x=int(input(\"enter the index number:\"))\n",
    "try:\n",
    "    print(a[x])  \n",
    "except:\n",
    "    print(\"index out of bond error \")\n",
    "finally:\n",
    "    print(\"error handelled\")\n",
    "\n",
    "print(\"we have recevide the index value\",x)\n"
   ]
  },
  {
   "cell_type": "code",
   "execution_count": 8,
   "id": "a3832acf-92af-4355-bc10-d5178efed100",
   "metadata": {},
   "outputs": [
    {
     "name": "stdin",
     "output_type": "stream",
     "text": [
      " 2\n",
      " 3\n"
     ]
    },
    {
     "name": "stdout",
     "output_type": "stream",
     "text": [
      "some unknown error found\n",
      "code execution done\n"
     ]
    }
   ],
   "source": [
    "try:\n",
    "    a=input()\n",
    "    b=input()\n",
    "    c=int(a)/int(b)\n",
    "    x=\"heelo\"/3\n",
    "except ValueError:\n",
    "    print(\"value unable tp cinvert\")\n",
    "except ZeroDivisionError:\n",
    "    print(\"can't divide by zero\")\n",
    "except :\n",
    "    print(\"some unknown error found\")\n",
    "else:\n",
    "    print(\"no error\")\n",
    "finally:\n",
    "    print(\"code execution done\")\n",
    "    "
   ]
  },
  {
   "cell_type": "markdown",
   "id": "1d50acc5-aaf7-4910-aa7a-97b0aecb2dab",
   "metadata": {},
   "source": [
    "WAP to find the sum of all the elements in the list and handle the case if it consists of non numeric value\n",
    "create a dictionary containing name of student and grades\n",
    "write a program to handle the grade and the case if dictionary is empty"
   ]
  }
 ],
 "metadata": {
  "kernelspec": {
   "display_name": "Python 3 (ipykernel)",
   "language": "python",
   "name": "python3"
  },
  "language_info": {
   "codemirror_mode": {
    "name": "ipython",
    "version": 3
   },
   "file_extension": ".py",
   "mimetype": "text/x-python",
   "name": "python",
   "nbconvert_exporter": "python",
   "pygments_lexer": "ipython3",
   "version": "3.12.3"
  }
 },
 "nbformat": 4,
 "nbformat_minor": 5
}
